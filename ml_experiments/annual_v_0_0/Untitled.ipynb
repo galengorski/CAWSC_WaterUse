{
 "cells": [
  {
   "cell_type": "code",
   "execution_count": null,
   "id": "4a2d8b8b-61fd-4635-8f84-e5ceef969d97",
   "metadata": {},
   "outputs": [],
   "source": [
    "x= 1\n",
    "y = 2\n",
    "\n",
    "for i in range(10):\n",
    "    x = x + y\n",
    "    "
   ]
  },
  {
   "cell_type": "code",
   "execution_count": null,
   "id": "0e954a89-3172-489e-be28-daa27232dcff",
   "metadata": {},
   "outputs": [],
   "source": []
  }
 ],
 "metadata": {
  "kernelspec": {
   "display_name": "Python 3.8 (XPython)",
   "language": "python",
   "name": "xpython"
  },
  "language_info": {
   "file_extension": ".py",
   "mimetype": "text/x-python",
   "name": "python",
   "version": "3.8.12"
  }
 },
 "nbformat": 4,
 "nbformat_minor": 5
}
