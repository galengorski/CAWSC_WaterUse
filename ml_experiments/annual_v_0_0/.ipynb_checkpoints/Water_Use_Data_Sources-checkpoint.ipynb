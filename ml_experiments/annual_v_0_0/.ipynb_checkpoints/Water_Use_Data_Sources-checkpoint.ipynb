{
 "cells": [
  {
   "cell_type": "code",
   "execution_count": 3,
   "id": "e9d8008f",
   "metadata": {},
   "outputs": [],
   "source": [
    "import os, sys\n",
    "import geopandas \n",
    "import pandas as pd\n",
    "import matplotlib.pyplot as plt\n",
    "import contextily as cx\n",
    "import warnings\n",
    "warnings.filterwarnings('ignore')"
   ]
  },
  {
   "cell_type": "code",
   "execution_count": 4,
   "id": "92f8c9d9",
   "metadata": {},
   "outputs": [],
   "source": [
    "x = 10"
   ]
  },
  {
   "cell_type": "markdown",
   "id": "37105a58",
   "metadata": {},
   "source": [
    "{{x}}"
   ]
  },
  {
   "cell_type": "markdown",
   "id": "f09fa7e0",
   "metadata": {},
   "source": [
    "# Description of Historical Water Use Sources and Coverage"
   ]
  },
  {
   "cell_type": "markdown",
   "id": "8fd1349f",
   "metadata": {},
   "source": [
    "Water use data used in this work are classified as :\n",
    "* Geo-spatial map for Public Water Service Area (PWSA).\n",
    "* Volumes of public water withdrawn.\n",
    "* Water conveyance among water systems.\n",
    "\n",
    "## Geo-spatial map for Public Water Service Area (PWSA)\n",
    "PWSA is a water service area boundary database developed to represent population served by public supply water utilities and to associate populations and built infrastructure with public supply system withdrawal(fig. 1; Buchwald et. al., 2022). The geo-spatial map includes \n",
    "\n",
    "\n"
   ]
  },
  {
   "cell_type": "code",
   "execution_count": null,
   "id": "852f1a0d",
   "metadata": {},
   "outputs": [],
   "source": [
    "wsa_shp = geopandas.read_file(r\"C:\\work\\water_use\\mldataset\\gis\\wsa\\WSA_v1.shp\")\n",
    "wsa_shp = wsa_shp.to_crs(epsg=3857)"
   ]
  },
  {
   "cell_type": "code",
   "execution_count": null,
   "id": "c561e261",
   "metadata": {},
   "outputs": [],
   "source": [
    "\n",
    "ax = wsa_shp.plot(figsize=(20, 20), alpha=0.95, edgecolor=None)\n",
    "cx.add_basemap(ax, source=cx.providers.Stamen.TonerLite)\n"
   ]
  },
  {
   "cell_type": "markdown",
   "id": "96cace5b",
   "metadata": {},
   "source": [
    "<p><center> <strong>Figure (1):</strong> Map Showing Public Supply Service areas </center></p>"
   ]
  },
  {
   "cell_type": "markdown",
   "id": "a9c94e54",
   "metadata": {},
   "source": [
    "Water Use data used in this study comes from (1) the from Site-Specific Water-Use Data System (SWUDS, part of the USGS National Water Information System (NWIS), (2) Water use data collected in this study. \n",
    "## Data discription"
   ]
  },
  {
   "cell_type": "code",
   "execution_count": 1,
   "id": "54c91ff2",
   "metadata": {},
   "outputs": [
    {
     "data": {
      "text/markdown": [
       "The data consists of 10 observations. Bla, Bla, ...."
      ],
      "text/plain": [
       "<IPython.core.display.Markdown object>"
      ]
     },
     "execution_count": 1,
     "metadata": {},
     "output_type": "execute_result"
    }
   ],
   "source": []
  },
  {
   "cell_type": "markdown",
   "id": "187b5c9f",
   "metadata": {},
   "source": [
    "The data consists of {{num_observations}} observations. Bla, Bla"
   ]
  },
  {
   "cell_type": "code",
   "execution_count": null,
   "id": "11cb973f",
   "metadata": {},
   "outputs": [],
   "source": []
  },
  {
   "cell_type": "code",
   "execution_count": 1,
   "id": "8ed2db55",
   "metadata": {},
   "outputs": [],
   "source": []
  },
  {
   "cell_type": "markdown",
   "id": "4ae32118",
   "metadata": {},
   "source": []
  },
  {
   "cell_type": "code",
   "execution_count": 2,
   "id": "9ca31ab4",
   "metadata": {},
   "outputs": [],
   "source": [
    "\n"
   ]
  },
  {
   "cell_type": "markdown",
   "id": "351eca54",
   "metadata": {},
   "source": [
    "{{x}}"
   ]
  },
  {
   "cell_type": "code",
   "execution_count": null,
   "id": "3f7ebba8",
   "metadata": {},
   "outputs": [],
   "source": []
  }
 ],
 "metadata": {
  "hide_input": false,
  "kernelspec": {
   "display_name": "Python 3 (ipykernel)",
   "language": "python",
   "name": "python3"
  },
  "language_info": {
   "codemirror_mode": {
    "name": "ipython",
    "version": 3
   },
   "file_extension": ".py",
   "mimetype": "text/x-python",
   "name": "python",
   "nbconvert_exporter": "python",
   "pygments_lexer": "ipython3",
   "version": "3.9.12"
  },
  "latex_envs": {
   "LaTeX_envs_menu_present": true,
   "autoclose": false,
   "autocomplete": true,
   "bibliofile": "biblio.bib",
   "cite_by": "apalike",
   "current_citInitial": 1,
   "eqLabelWithNumbers": true,
   "eqNumInitial": 1,
   "hotkeys": {
    "equation": "Ctrl-E",
    "itemize": "Ctrl-I"
   },
   "labels_anchors": false,
   "latex_user_defs": false,
   "report_style_numbering": false,
   "user_envs_cfg": false
  },
  "toc": {
   "base_numbering": 1,
   "nav_menu": {},
   "number_sections": true,
   "sideBar": true,
   "skip_h1_title": false,
   "title_cell": "Table of Contents",
   "title_sidebar": "Contents",
   "toc_cell": false,
   "toc_position": {},
   "toc_section_display": true,
   "toc_window_display": false
  },
  "varInspector": {
   "cols": {
    "lenName": 16,
    "lenType": 16,
    "lenVar": 40
   },
   "kernels_config": {
    "python": {
     "delete_cmd_postfix": "",
     "delete_cmd_prefix": "del ",
     "library": "var_list.py",
     "varRefreshCmd": "print(var_dic_list())"
    },
    "r": {
     "delete_cmd_postfix": ") ",
     "delete_cmd_prefix": "rm(",
     "library": "var_list.r",
     "varRefreshCmd": "cat(var_dic_list()) "
    }
   },
   "types_to_exclude": [
    "module",
    "function",
    "builtin_function_or_method",
    "instance",
    "_Feature"
   ],
   "window_display": false
  }
 },
 "nbformat": 4,
 "nbformat_minor": 5
}
