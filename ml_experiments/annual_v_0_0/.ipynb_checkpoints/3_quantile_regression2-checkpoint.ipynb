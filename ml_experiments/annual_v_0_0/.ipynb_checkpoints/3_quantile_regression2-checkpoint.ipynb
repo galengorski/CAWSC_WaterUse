{
 "cells": [
  {
   "cell_type": "markdown",
   "id": "def4f810",
   "metadata": {},
   "source": [
    "# Annual Water Use "
   ]
  },
  {
   "cell_type": "code",
   "execution_count": 1,
   "id": "6225725d",
   "metadata": {},
   "outputs": [],
   "source": [
    "\n",
    "import os, sys\n",
    "import pandas as pd\n",
    "#from pycaret.regression import *\n",
    "sys.path.append(r\"C:\\work\\water_use\\CAWSC_WaterUse\\WUtrainer\")\n",
    "from featurize import MultiOneHotEncoder\n",
    "import matplotlib.pyplot as plt\n",
    "from xgboost import plot_importance\n",
    "import xgboost as xgb\n",
    "import category_encoders as ce \n",
    "\n",
    "#\n",
    "import numpy as np\n",
    "\n",
    "# sklearn\n",
    "from sklearn.model_selection import train_test_split\n",
    "from sklearn.metrics import r2_score"
   ]
  },
  {
   "cell_type": "code",
   "execution_count": 2,
   "id": "b60184c8",
   "metadata": {},
   "outputs": [],
   "source": [
    "from sklearn.compose import ColumnTransformer\n",
    "from sklearn.datasets import fetch_openml\n",
    "from sklearn.pipeline import Pipeline\n",
    "from sklearn.impute import SimpleImputer\n",
    "from sklearn.preprocessing import StandardScaler, OneHotEncoder\n",
    "from sklearn.linear_model import LogisticRegression\n",
    "from sklearn.model_selection import train_test_split, GridSearchCV"
   ]
  },
  {
   "cell_type": "code",
   "execution_count": 3,
   "id": "28e67d1c",
   "metadata": {},
   "outputs": [
    {
     "name": "stdout",
     "output_type": "stream",
     "text": [
      "Warning: Cannot change to a different GUI toolkit: ipympl. Using widget instead.\n"
     ]
    }
   ],
   "source": [
    "%matplotlib widget\n",
    "%matplotlib inline\n",
    "%matplotlib ipympl\n",
    "import warnings\n",
    "\n",
    "warnings.filterwarnings('ignore')\n",
    "xgb.set_config(verbosity=0)"
   ]
  },
  {
   "cell_type": "code",
   "execution_count": 4,
   "id": "a996df7b",
   "metadata": {
    "lines_to_next_cell": 2
   },
   "outputs": [],
   "source": [
    "dataset = pd.read_csv(r\"C:\\work\\water_use\\ml_experiments\\annual_v_0_0\\clean_train_db.csv\")\n",
    "pop_info = pd.read_csv(r\"pop_info.csv\")\n",
    "pc_50_swud = pd.read_csv(r\"C:\\work\\water_use\\mldataset\\ml\\training\\misc_features\\spatial_features\\pc_50_pop_swud15.csv\")\n",
    "pc_50_plc = pd.read_csv(r\"C:\\work\\water_use\\mldataset\\ml\\training\\misc_features\\spatial_features\\pc_50_plc_pop_interpolated.csv\")\n",
    "pc95_5 = pd.read_csv(r\"C:\\work\\water_use\\mldataset\\ml\\training\\misc_features\\spatial_features\\pc_50_swud_pop_p95_5.csv\")"
   ]
  },
  {
   "cell_type": "code",
   "execution_count": 5,
   "id": "4a51d990",
   "metadata": {
    "lines_to_next_cell": 2
   },
   "outputs": [],
   "source": [
    "df_ = pc_50_swud[['sys_id', 'pc_median' ]]\n",
    "dataset = dataset.merge(df_, right_on=['sys_id'], left_on=['sys_id'] , how = 'left')\n",
    "del(df_)\n",
    "\n",
    "df_ = pc95_5[['sys_id', 'p95', 'p5' ]]\n",
    "dataset = dataset.merge(df_, right_on=['sys_id'], left_on=['sys_id'] , how = 'left')\n",
    "del(df_)"
   ]
  },
  {
   "cell_type": "code",
   "execution_count": 6,
   "id": "071b9936",
   "metadata": {},
   "outputs": [
    {
     "data": {
      "text/html": [
       "<div>\n",
       "<style scoped>\n",
       "    .dataframe tbody tr th:only-of-type {\n",
       "        vertical-align: middle;\n",
       "    }\n",
       "\n",
       "    .dataframe tbody tr th {\n",
       "        vertical-align: top;\n",
       "    }\n",
       "\n",
       "    .dataframe thead th {\n",
       "        text-align: right;\n",
       "    }\n",
       "</style>\n",
       "<table border=\"1\" class=\"dataframe\">\n",
       "  <thead>\n",
       "    <tr style=\"text-align: right;\">\n",
       "      <th></th>\n",
       "      <th>sys_id</th>\n",
       "      <th>pop</th>\n",
       "      <th>tract_pop</th>\n",
       "      <th>cdc_pop_0</th>\n",
       "      <th>plc_pop_interpolated</th>\n",
       "      <th>zillow_nh</th>\n",
       "      <th>bdg_ftp_count</th>\n",
       "      <th>wu_rate</th>\n",
       "      <th>WSA_SQKM</th>\n",
       "      <th>pop_swud15</th>\n",
       "      <th>...</th>\n",
       "      <th>pz_tpop</th>\n",
       "      <th>pz_swud</th>\n",
       "      <th>pf_tract</th>\n",
       "      <th>pf_plc</th>\n",
       "      <th>pf_tpop</th>\n",
       "      <th>pf_swud</th>\n",
       "      <th>Year</th>\n",
       "      <th>LAT</th>\n",
       "      <th>LONG</th>\n",
       "      <th>Ecode_num</th>\n",
       "    </tr>\n",
       "  </thead>\n",
       "  <tbody>\n",
       "    <tr>\n",
       "      <th>0</th>\n",
       "      <td>100211202</td>\n",
       "      <td>0</td>\n",
       "      <td>740.290388</td>\n",
       "      <td>19.927953</td>\n",
       "      <td>1106.956079</td>\n",
       "      <td>NaN</td>\n",
       "      <td>NaN</td>\n",
       "      <td>NaN</td>\n",
       "      <td>6.021133</td>\n",
       "      <td>1018.761996</td>\n",
       "      <td>...</td>\n",
       "      <td>NaN</td>\n",
       "      <td>NaN</td>\n",
       "      <td>NaN</td>\n",
       "      <td>NaN</td>\n",
       "      <td>NaN</td>\n",
       "      <td>NaN</td>\n",
       "      <td>2000</td>\n",
       "      <td>55.143611</td>\n",
       "      <td>-131.593056</td>\n",
       "      <td>0.0</td>\n",
       "    </tr>\n",
       "    <tr>\n",
       "      <th>1</th>\n",
       "      <td>100211202</td>\n",
       "      <td>0</td>\n",
       "      <td>762.662364</td>\n",
       "      <td>102.304079</td>\n",
       "      <td>1101.857372</td>\n",
       "      <td>NaN</td>\n",
       "      <td>NaN</td>\n",
       "      <td>NaN</td>\n",
       "      <td>6.021133</td>\n",
       "      <td>1049.549535</td>\n",
       "      <td>...</td>\n",
       "      <td>NaN</td>\n",
       "      <td>NaN</td>\n",
       "      <td>NaN</td>\n",
       "      <td>NaN</td>\n",
       "      <td>NaN</td>\n",
       "      <td>NaN</td>\n",
       "      <td>2001</td>\n",
       "      <td>55.143611</td>\n",
       "      <td>-131.593056</td>\n",
       "      <td>0.0</td>\n",
       "    </tr>\n",
       "    <tr>\n",
       "      <th>2</th>\n",
       "      <td>100211202</td>\n",
       "      <td>0</td>\n",
       "      <td>785.034341</td>\n",
       "      <td>184.680512</td>\n",
       "      <td>1096.758665</td>\n",
       "      <td>NaN</td>\n",
       "      <td>NaN</td>\n",
       "      <td>NaN</td>\n",
       "      <td>6.021133</td>\n",
       "      <td>1080.337073</td>\n",
       "      <td>...</td>\n",
       "      <td>NaN</td>\n",
       "      <td>NaN</td>\n",
       "      <td>NaN</td>\n",
       "      <td>NaN</td>\n",
       "      <td>NaN</td>\n",
       "      <td>NaN</td>\n",
       "      <td>2002</td>\n",
       "      <td>55.143611</td>\n",
       "      <td>-131.593056</td>\n",
       "      <td>0.0</td>\n",
       "    </tr>\n",
       "    <tr>\n",
       "      <th>3</th>\n",
       "      <td>100211202</td>\n",
       "      <td>0</td>\n",
       "      <td>807.406317</td>\n",
       "      <td>267.056946</td>\n",
       "      <td>1091.659958</td>\n",
       "      <td>NaN</td>\n",
       "      <td>NaN</td>\n",
       "      <td>NaN</td>\n",
       "      <td>6.021133</td>\n",
       "      <td>1111.124612</td>\n",
       "      <td>...</td>\n",
       "      <td>NaN</td>\n",
       "      <td>NaN</td>\n",
       "      <td>NaN</td>\n",
       "      <td>NaN</td>\n",
       "      <td>NaN</td>\n",
       "      <td>NaN</td>\n",
       "      <td>2003</td>\n",
       "      <td>55.143611</td>\n",
       "      <td>-131.593056</td>\n",
       "      <td>0.0</td>\n",
       "    </tr>\n",
       "    <tr>\n",
       "      <th>4</th>\n",
       "      <td>100211202</td>\n",
       "      <td>0</td>\n",
       "      <td>829.778293</td>\n",
       "      <td>349.433688</td>\n",
       "      <td>1086.561252</td>\n",
       "      <td>NaN</td>\n",
       "      <td>NaN</td>\n",
       "      <td>NaN</td>\n",
       "      <td>6.021133</td>\n",
       "      <td>1141.912151</td>\n",
       "      <td>...</td>\n",
       "      <td>NaN</td>\n",
       "      <td>NaN</td>\n",
       "      <td>NaN</td>\n",
       "      <td>NaN</td>\n",
       "      <td>NaN</td>\n",
       "      <td>NaN</td>\n",
       "      <td>2004</td>\n",
       "      <td>55.143611</td>\n",
       "      <td>-131.593056</td>\n",
       "      <td>0.0</td>\n",
       "    </tr>\n",
       "    <tr>\n",
       "      <th>...</th>\n",
       "      <td>...</td>\n",
       "      <td>...</td>\n",
       "      <td>...</td>\n",
       "      <td>...</td>\n",
       "      <td>...</td>\n",
       "      <td>...</td>\n",
       "      <td>...</td>\n",
       "      <td>...</td>\n",
       "      <td>...</td>\n",
       "      <td>...</td>\n",
       "      <td>...</td>\n",
       "      <td>...</td>\n",
       "      <td>...</td>\n",
       "      <td>...</td>\n",
       "      <td>...</td>\n",
       "      <td>...</td>\n",
       "      <td>...</td>\n",
       "      <td>...</td>\n",
       "      <td>...</td>\n",
       "      <td>...</td>\n",
       "      <td>...</td>\n",
       "    </tr>\n",
       "    <tr>\n",
       "      <th>417286</th>\n",
       "      <td>WY5680092</td>\n",
       "      <td>0</td>\n",
       "      <td>0.371218</td>\n",
       "      <td>0.371218</td>\n",
       "      <td>109.138817</td>\n",
       "      <td>NaN</td>\n",
       "      <td>186.0</td>\n",
       "      <td>NaN</td>\n",
       "      <td>2.040843</td>\n",
       "      <td>NaN</td>\n",
       "      <td>...</td>\n",
       "      <td>NaN</td>\n",
       "      <td>NaN</td>\n",
       "      <td>-2.699884</td>\n",
       "      <td>-0.231534</td>\n",
       "      <td>0.216837</td>\n",
       "      <td>NaN</td>\n",
       "      <td>2016</td>\n",
       "      <td>44.973341</td>\n",
       "      <td>-110.692678</td>\n",
       "      <td>0.0</td>\n",
       "    </tr>\n",
       "    <tr>\n",
       "      <th>417287</th>\n",
       "      <td>WY5680092</td>\n",
       "      <td>0</td>\n",
       "      <td>0.379047</td>\n",
       "      <td>0.379047</td>\n",
       "      <td>56.552770</td>\n",
       "      <td>NaN</td>\n",
       "      <td>186.0</td>\n",
       "      <td>NaN</td>\n",
       "      <td>2.040843</td>\n",
       "      <td>NaN</td>\n",
       "      <td>...</td>\n",
       "      <td>NaN</td>\n",
       "      <td>NaN</td>\n",
       "      <td>-2.690820</td>\n",
       "      <td>-0.517059</td>\n",
       "      <td>0.225901</td>\n",
       "      <td>NaN</td>\n",
       "      <td>2017</td>\n",
       "      <td>44.973341</td>\n",
       "      <td>-110.692678</td>\n",
       "      <td>0.0</td>\n",
       "    </tr>\n",
       "    <tr>\n",
       "      <th>417288</th>\n",
       "      <td>WY5680092</td>\n",
       "      <td>0</td>\n",
       "      <td>0.387101</td>\n",
       "      <td>0.387101</td>\n",
       "      <td>50.463745</td>\n",
       "      <td>NaN</td>\n",
       "      <td>186.0</td>\n",
       "      <td>NaN</td>\n",
       "      <td>2.040843</td>\n",
       "      <td>NaN</td>\n",
       "      <td>...</td>\n",
       "      <td>NaN</td>\n",
       "      <td>NaN</td>\n",
       "      <td>-2.681688</td>\n",
       "      <td>-0.566533</td>\n",
       "      <td>0.235033</td>\n",
       "      <td>NaN</td>\n",
       "      <td>2018</td>\n",
       "      <td>44.973341</td>\n",
       "      <td>-110.692678</td>\n",
       "      <td>0.0</td>\n",
       "    </tr>\n",
       "    <tr>\n",
       "      <th>417289</th>\n",
       "      <td>WY5680092</td>\n",
       "      <td>0</td>\n",
       "      <td>0.388307</td>\n",
       "      <td>0.388307</td>\n",
       "      <td>48.391644</td>\n",
       "      <td>NaN</td>\n",
       "      <td>186.0</td>\n",
       "      <td>NaN</td>\n",
       "      <td>2.040843</td>\n",
       "      <td>NaN</td>\n",
       "      <td>...</td>\n",
       "      <td>NaN</td>\n",
       "      <td>NaN</td>\n",
       "      <td>-2.680338</td>\n",
       "      <td>-0.584743</td>\n",
       "      <td>0.236384</td>\n",
       "      <td>NaN</td>\n",
       "      <td>2019</td>\n",
       "      <td>44.973341</td>\n",
       "      <td>-110.692678</td>\n",
       "      <td>0.0</td>\n",
       "    </tr>\n",
       "    <tr>\n",
       "      <th>417290</th>\n",
       "      <td>WY5680092</td>\n",
       "      <td>0</td>\n",
       "      <td>0.388359</td>\n",
       "      <td>0.388359</td>\n",
       "      <td>48.391644</td>\n",
       "      <td>NaN</td>\n",
       "      <td>186.0</td>\n",
       "      <td>NaN</td>\n",
       "      <td>2.040843</td>\n",
       "      <td>NaN</td>\n",
       "      <td>...</td>\n",
       "      <td>NaN</td>\n",
       "      <td>NaN</td>\n",
       "      <td>-2.680279</td>\n",
       "      <td>-0.584743</td>\n",
       "      <td>0.236442</td>\n",
       "      <td>NaN</td>\n",
       "      <td>2020</td>\n",
       "      <td>44.973341</td>\n",
       "      <td>-110.692678</td>\n",
       "      <td>0.0</td>\n",
       "    </tr>\n",
       "  </tbody>\n",
       "</table>\n",
       "<p>417291 rows × 30 columns</p>\n",
       "</div>"
      ],
      "text/plain": [
       "           sys_id  pop   tract_pop   cdc_pop_0  plc_pop_interpolated  \\\n",
       "0       100211202    0  740.290388   19.927953           1106.956079   \n",
       "1       100211202    0  762.662364  102.304079           1101.857372   \n",
       "2       100211202    0  785.034341  184.680512           1096.758665   \n",
       "3       100211202    0  807.406317  267.056946           1091.659958   \n",
       "4       100211202    0  829.778293  349.433688           1086.561252   \n",
       "...           ...  ...         ...         ...                   ...   \n",
       "417286  WY5680092    0    0.371218    0.371218            109.138817   \n",
       "417287  WY5680092    0    0.379047    0.379047             56.552770   \n",
       "417288  WY5680092    0    0.387101    0.387101             50.463745   \n",
       "417289  WY5680092    0    0.388307    0.388307             48.391644   \n",
       "417290  WY5680092    0    0.388359    0.388359             48.391644   \n",
       "\n",
       "        zillow_nh  bdg_ftp_count  wu_rate  WSA_SQKM   pop_swud15  ...  \\\n",
       "0             NaN            NaN      NaN  6.021133  1018.761996  ...   \n",
       "1             NaN            NaN      NaN  6.021133  1049.549535  ...   \n",
       "2             NaN            NaN      NaN  6.021133  1080.337073  ...   \n",
       "3             NaN            NaN      NaN  6.021133  1111.124612  ...   \n",
       "4             NaN            NaN      NaN  6.021133  1141.912151  ...   \n",
       "...           ...            ...      ...       ...          ...  ...   \n",
       "417286        NaN          186.0      NaN  2.040843          NaN  ...   \n",
       "417287        NaN          186.0      NaN  2.040843          NaN  ...   \n",
       "417288        NaN          186.0      NaN  2.040843          NaN  ...   \n",
       "417289        NaN          186.0      NaN  2.040843          NaN  ...   \n",
       "417290        NaN          186.0      NaN  2.040843          NaN  ...   \n",
       "\n",
       "        pz_tpop  pz_swud  pf_tract    pf_plc   pf_tpop  pf_swud  Year  \\\n",
       "0           NaN      NaN       NaN       NaN       NaN      NaN  2000   \n",
       "1           NaN      NaN       NaN       NaN       NaN      NaN  2001   \n",
       "2           NaN      NaN       NaN       NaN       NaN      NaN  2002   \n",
       "3           NaN      NaN       NaN       NaN       NaN      NaN  2003   \n",
       "4           NaN      NaN       NaN       NaN       NaN      NaN  2004   \n",
       "...         ...      ...       ...       ...       ...      ...   ...   \n",
       "417286      NaN      NaN -2.699884 -0.231534  0.216837      NaN  2016   \n",
       "417287      NaN      NaN -2.690820 -0.517059  0.225901      NaN  2017   \n",
       "417288      NaN      NaN -2.681688 -0.566533  0.235033      NaN  2018   \n",
       "417289      NaN      NaN -2.680338 -0.584743  0.236384      NaN  2019   \n",
       "417290      NaN      NaN -2.680279 -0.584743  0.236442      NaN  2020   \n",
       "\n",
       "              LAT        LONG  Ecode_num  \n",
       "0       55.143611 -131.593056        0.0  \n",
       "1       55.143611 -131.593056        0.0  \n",
       "2       55.143611 -131.593056        0.0  \n",
       "3       55.143611 -131.593056        0.0  \n",
       "4       55.143611 -131.593056        0.0  \n",
       "...           ...         ...        ...  \n",
       "417286  44.973341 -110.692678        0.0  \n",
       "417287  44.973341 -110.692678        0.0  \n",
       "417288  44.973341 -110.692678        0.0  \n",
       "417289  44.973341 -110.692678        0.0  \n",
       "417290  44.973341 -110.692678        0.0  \n",
       "\n",
       "[417291 rows x 30 columns]"
      ]
     },
     "execution_count": 6,
     "metadata": {},
     "output_type": "execute_result"
    }
   ],
   "source": [
    "pop_info"
   ]
  },
  {
   "cell_type": "code",
   "execution_count": 7,
   "id": "2a5402ec",
   "metadata": {
    "lines_to_next_cell": 2
   },
   "outputs": [],
   "source": [
    "pop_info['pop'] = pop_info['pop_swud16'].copy()\n",
    "mask = pop_info['pop'].isna() | pop_info['pop']==0\n",
    "pop_info.loc[mask, 'pop'] = pop_info[mask]['plc_pop_interpolated']\n",
    "mask = pop_info['pop'].isna() | pop_info['pop']==0\n",
    "pop_info.loc[mask, 'pop'] = pop_info[mask]['TPOPSRV']\n",
    "mask = pop_info['pop'].isna() | pop_info['pop']==0\n",
    "pop_info.loc[mask, 'pop'] = pop_info[mask]['tract_pop']\n",
    "\n",
    "\n",
    "#dataset = dataset[dataset['Ecode_num']==0]\n",
    "\n",
    "pop_df = pop_info[['sys_id', 'pop', 'Year']]\n",
    "dataset = dataset.merge(pop_df, right_on=['sys_id', 'Year'], left_on=['sys_id', 'Year'] , how = 'left')"
   ]
  },
  {
   "cell_type": "code",
   "execution_count": 8,
   "id": "04db17ce",
   "metadata": {},
   "outputs": [],
   "source": [
    "dataset_bck = dataset.copy()"
   ]
  },
  {
   "cell_type": "code",
   "execution_count": 9,
   "id": "3ef4e3bc",
   "metadata": {},
   "outputs": [],
   "source": [
    "# drop_before_preprocess = ['sys_id']\n",
    "# categorical_features = ['HUC2', 'state_id',  'KG_climate_zone', 'county_id', 'Ecode_num' ]\n",
    "# ohc1 = MultiOneHotEncoder(catfeatures = categorical_features )\n",
    "# dataset = ohc1.transform(dataset)"
   ]
  },
  {
   "cell_type": "code",
   "execution_count": 10,
   "id": "77e519e6",
   "metadata": {},
   "outputs": [],
   "source": [
    "dataset = dataset_bck.copy()"
   ]
  },
  {
   "cell_type": "code",
   "execution_count": 11,
   "id": "4e32e4fa",
   "metadata": {},
   "outputs": [],
   "source": [
    "categorical_features = ['HUC2', 'state_id']\n",
    "# dataset = dataset.astype({\"HUC2\":'category', \"state_id\":'category',\n",
    "#                       \"KG_climate_zone\":'category',\n",
    "#                       \"Ecode_num\":'category',}) #\"county_id\":'category',"
   ]
  },
  {
   "cell_type": "code",
   "execution_count": 12,
   "id": "aab5f4c7",
   "metadata": {},
   "outputs": [],
   "source": [
    "extra_drop = []"
   ]
  },
  {
   "cell_type": "code",
   "execution_count": 90,
   "id": "f5a82bd6",
   "metadata": {
    "lines_to_next_cell": 2
   },
   "outputs": [
    {
     "name": "stdout",
     "output_type": "stream",
     "text": [
      " Ecode_num is not the list\n",
      " county_id is not the list\n",
      " KG_climate_zone is not the list\n"
     ]
    }
   ],
   "source": [
    "extra_drop = ordered_features[50:].to_list()\n",
    "for i in ['KG_climate_zone', 'HUC2', 'state_id', 'Ecode_num', 'county_id', \"KG_climate_zone\"]:\n",
    "    try:\n",
    "        extra_drop.remove(i)\n",
    "    except:\n",
    "        print(\" {} is not the list\".format(i))"
   ]
  },
  {
   "cell_type": "code",
   "execution_count": 91,
   "id": "8a9d6810",
   "metadata": {
    "lines_to_next_cell": 2
   },
   "outputs": [
    {
     "data": {
      "text/plain": [
       "112"
      ]
     },
     "execution_count": 91,
     "metadata": {},
     "output_type": "execute_result"
    }
   ],
   "source": [
    "\n",
    "len(ordered_features)"
   ]
  },
  {
   "cell_type": "code",
   "execution_count": 28,
   "id": "7461b34b",
   "metadata": {},
   "outputs": [
    {
     "data": {
      "application/vnd.jupyter.widget-view+json": {
       "model_id": "07d460c973a9460db498eb49442b27ee",
       "version_major": 2,
       "version_minor": 0
      },
      "image/png": "[encoded data removed]",
      "text/html": [
       "\n",
       "            <div style=\"display: inline-block;\">\n",
       "                <div class=\"jupyter-widgets widget-label\" style=\"text-align: center;\">\n",
       "                    Figure\n",
       "                </div>\n",
       "                <img src='data:image/png;base64,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' width=640.0/>\n",
       "            </div>\n",
       "        "
      ],
      "text/plain": [
       "Canvas(toolbar=Toolbar(toolitems=[('Home', 'Reset original view', 'home', 'home'), ('Back', 'Back to previous …"
      ]
     },
     "metadata": {},
     "output_type": "display_data"
    },
    {
     "data": {
      "application/vnd.jupyter.widget-view+json": {
       "model_id": "d424de7221ce4a75ae87a8fcf93c8a38",
       "version_major": 2,
       "version_minor": 0
      },
      "image/png": "[encoded data removed]",
      "text/html": [
       "\n",
       "            <div style=\"display: inline-block;\">\n",
       "                <div class=\"jupyter-widgets widget-label\" style=\"text-align: center;\">\n",
       "                    Figure\n",
       "                </div>\n",
       "                <img src='data:image/png;base64,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' width=640.0/>\n",
       "            </div>\n",
       "        "
      ],
      "text/plain": [
       "Canvas(toolbar=Toolbar(toolitems=[('Home', 'Reset original view', 'home', 'home'), ('Back', 'Back to previous …"
      ]
     },
     "metadata": {},
     "output_type": "display_data"
    }
   ],
   "source": [
    "\n",
    "columns_to_drop = [ 'population','sys_id', 'wu_rate'] + extra_drop#'population',\n",
    "df = dataset.copy()\n",
    "#df['pc_median']\n",
    "df['pc'] = df['wu_rate']/df['pop']\n",
    "if 1:\n",
    "    df = df[df['pop']>500]\n",
    "    mask = (df['pc']>20) & (df['pc']<500)\n",
    "    df = df[mask]\n",
    "    df = df[df['pc']<df['p95']]\n",
    "    df = df[df['pc']>df['p5']]\n",
    "\n",
    "#mask = ((df['pc_median']-df['pc'])/df['pc_median']) <0.5\n",
    "#df = df[mask]\n",
    "\n",
    "df = df.drop(columns_to_drop, axis=1)\n",
    "features = list(df.columns)\n",
    "features.remove('pc')\n",
    "X =df[features]\n",
    "from statsmodels.distributions.empirical_distribution import ECDF\n",
    "\n",
    "y =df['pc']\n",
    "\n",
    "# \n",
    "plt.figure()\n",
    "v_freq = plt.hist(df['pc'].values, bins = 30)\n",
    "freq = np.interp(df['pc'].values, v_freq[1][1:], v_freq[0], left=None, right=None, period=None)\n",
    "X['freq'] = freq\n",
    "\n",
    "tar_ec = ce.TargetEncoder(return_df=True, cols = ['county_id'] )\n",
    "#X = tar_ec.fit_transform(X, y)\n",
    "\n",
    "#Split data\n",
    "X_train, X_test, y_train, y_test = train_test_split(X, y, test_size=0.3, random_state = 123)\n",
    "Train_freq = X_train['freq']\n",
    "Test_freq = X_test['freq']\n",
    "del(X_test['freq'])\n",
    "del(X_train['freq'])\n",
    "\n",
    "# Estimator\n",
    "gb = xgb.XGBRegressor(objective=\"reg:squarederror\", tree_method = 'hist', colsample_bytree=0.8, learning_rate=0.20,\n",
    "                              max_depth=8, alpha=100,  n_estimators=500, rate_drop=0.9, skip_drop=0.5, subsample=0.8,\n",
    "                              seed = 123, reg_lambda=10, min_child_weight = 1, gamma = 10, max_delta_step = 0, \n",
    "                           )\n",
    "\n",
    "\n",
    "main_pipeline = []\n",
    "\n",
    "# (A.2) transformation of categorical features\n",
    "\n",
    "categorical_transformer = OneHotEncoder(handle_unknown=\"ignore\")\n",
    "\n",
    "# (A.3)do all preprocessing\n",
    "if 1: # r2 = 0.785\n",
    "    preprocessor = ColumnTransformer(remainder = 'passthrough',\n",
    "        transformers=[       \n",
    "            (\"cat\", categorical_transformer, categorical_features),\n",
    "            ('Target encoding', ce.OneHotEncoder( cols = ['KG_climate_zone', 'Ecode_num']), ['KG_climate_zone', 'Ecode_num' ])\n",
    "        ]\n",
    "    )\n",
    "    main_pipeline.append(('preprocess', preprocessor))\n",
    "\n",
    "# drop r2 to 0.774\n",
    "if 0:\n",
    "    from feature_engine.encoding import CountFrequencyEncoder\n",
    "    encoder = CountFrequencyEncoder(encoding_method='frequency',\n",
    "                             variables=categorical_features)\n",
    "    main_pipeline.append(('enc', encoder))\n",
    "\n",
    "# drop r2 to 0.663 for ordered and 0.78 for arbitrary\n",
    "if 0:    \n",
    "    from feature_engine.encoding import OrdinalEncoder\n",
    "    encoder = OrdinalEncoder(encoding_method='ordered',\n",
    "                             variables=categorical_features)\n",
    "    main_pipeline.append(('enc', encoder))\n",
    "\n",
    "#***************************\n",
    "\n",
    "\n",
    "\n",
    "\n",
    "main_pipeline.append(('model', gb))\n",
    "\n",
    "model = Pipeline(main_pipeline)\n",
    "\n",
    "\n",
    "\n",
    "w = 1.0/Train_freq\n",
    "w = w/np.max(w)\n",
    "\n",
    "kwargs = {model.steps[-1][0] + '__sample_weight': w/w}\n",
    "model.fit(X_train, y_train, **kwargs)\n",
    "\n",
    "plt.figure()\n",
    "ypredict = model.predict(X_test)\n",
    "\n",
    "w2 = 1.0/Test_freq\n",
    "w2 = w2/np.max(w2)\n",
    "\n",
    "accuracy = r2_score(y_test, ypredict, sample_weight=w2/w2)\n",
    "accuracy\n",
    "\n",
    "plt.scatter(y_test, ypredict, s = 4, c = np.log10(X_test['pop']), cmap = 'jet')\n",
    "plt.plot([min(y_test), max(y_test)], [min(y_test), max(y_test)], 'r')\n",
    "plt.title(\"$R^2 = ${}\".format(accuracy))\n",
    "plt.xlabel(\"Actual PC Water Use\")\n",
    "plt.ylabel(\"Estimated PC Water Use\")\n",
    "plt.grid()\n",
    "\n",
    "plt.colorbar()\n",
    "plt.show()"
   ]
  },
  {
   "cell_type": "code",
   "execution_count": null,
   "id": "1ba4b61a",
   "metadata": {
    "lines_to_next_cell": 2
   },
   "outputs": [],
   "source": [
    "features = X_test.columns\n",
    "imp = []\n",
    "for feature in features:\n",
    "    X_test_permutated = X_test.copy()\n",
    "    val = X_test_permutated[feature].sample(frac = 1)\n",
    "    val = val.values\n",
    "    X_test_permutated[feature] = val\n",
    "    y_predicted_per = model.predict(X_test_permutated)\n",
    "    accuracy = r2_score(y_test, y_predicted_per)\n",
    "    print(accuracy)\n",
    "    imp.append(accuracy - 0.7714)"
   ]
  },
  {
   "cell_type": "code",
   "execution_count": null,
   "id": "16572675",
   "metadata": {},
   "outputs": [],
   "source": []
  },
  {
   "cell_type": "code",
   "execution_count": null,
   "id": "c808f64f",
   "metadata": {},
   "outputs": [],
   "source": []
  },
  {
   "cell_type": "code",
   "execution_count": null,
   "id": "63fc4f82",
   "metadata": {},
   "outputs": [],
   "source": []
  },
  {
   "cell_type": "code",
   "execution_count": 100,
   "id": "5f628322",
   "metadata": {},
   "outputs": [],
   "source": [
    "from statsmodels.distributions.empirical_distribution import ECDF"
   ]
  },
  {
   "cell_type": "code",
   "execution_count": 102,
   "id": "81838718",
   "metadata": {},
   "outputs": [],
   "source": []
  },
  {
   "cell_type": "code",
   "execution_count": 114,
   "id": "2bbcd579",
   "metadata": {},
   "outputs": [],
   "source": [
    "x = df['pc'].values\n",
    "ec = ECDF(x)"
   ]
  },
  {
   "cell_type": "code",
   "execution_count": 118,
   "id": "6c053550",
   "metadata": {},
   "outputs": [
    {
     "data": {
      "text/plain": [
       "[<matplotlib.lines.Line2D at 0x18658abd6d0>]"
      ]
     },
     "execution_count": 118,
     "metadata": {},
     "output_type": "execute_result"
    },
    {
     "data": {
      "application/vnd.jupyter.widget-view+json": {
       "model_id": "d222043ee5df46a699bf1c36f2fe7ff7",
       "version_major": 2,
       "version_minor": 0
      },
      "image/png": "[encoded data removed]",
      "text/html": [
       "\n",
       "            <div style=\"display: inline-block;\">\n",
       "                <div class=\"jupyter-widgets widget-label\" style=\"text-align: center;\">\n",
       "                    Figure\n",
       "                </div>\n",
       "                <img src='data:image/png;base64,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' width=640.0/>\n",
       "            </div>\n",
       "        "
      ],
      "text/plain": [
       "Canvas(toolbar=Toolbar(toolitems=[('Home', 'Reset original view', 'home', 'home'), ('Back', 'Back to previous …"
      ]
     },
     "metadata": {},
     "output_type": "display_data"
    }
   ],
   "source": [
    "plt.figure()\n",
    "plt.plot(ec.x, ec.y)"
   ]
  },
  {
   "cell_type": "code",
   "execution_count": null,
   "id": "434a38f5",
   "metadata": {},
   "outputs": [],
   "source": [
    "ytrain_predicted = model.predict(X_train)\n",
    "plt.figure()\n",
    "\n",
    "\n",
    "\n",
    "\n",
    "accuracy = r2_score(y_train, ytrain_predicted)\n",
    "accuracy\n",
    "\n",
    "plt.scatter(y_train, ytrain_predicted, s = 4)\n",
    "plt.plot([min(y_train), max(y_train)], [min(ytrain_predicted), max(ytrain_predicted)], 'r')\n",
    "plt.title(\"$R^2 = ${}\".format(accuracy))\n",
    "plt.xlabel(\"Actual PC Water Use\")\n",
    "plt.ylabel(\"Estimated PC Water Use\")\n",
    "plt.grid()\n",
    "\n",
    "plt.colorbar()\n",
    "plt.show()"
   ]
  },
  {
   "cell_type": "markdown",
   "id": "8d7981b6",
   "metadata": {},
   "source": [
    "## Meaure Importance "
   ]
  },
  {
   "cell_type": "code",
   "execution_count": 51,
   "id": "3492e05d",
   "metadata": {},
   "outputs": [
    {
     "name": "stdout",
     "output_type": "stream",
     "text": [
      "0.7674163988036788\n",
      "0.7668648225397214\n",
      "0.765899667549486\n",
      "0.7670078004075138\n",
      "0.7675753812602908\n",
      "0.7672076184882005\n",
      "0.766910162770956\n",
      "0.7655077652948741\n",
      "0.767582206947887\n",
      "0.7675822162701205\n",
      "0.7680177890712533\n",
      "0.7667441327792768\n",
      "0.7639380125346551\n",
      "0.7683998605355207\n",
      "0.7667163646005595\n",
      "0.7677925489490968\n",
      "0.762017954020817\n",
      "0.7603747265878886\n",
      "0.7677004095381703\n",
      "0.767763877233477\n",
      "0.7672556047091174\n",
      "0.7667935135415064\n",
      "0.7682970763505835\n",
      "0.7667222733978921\n",
      "0.7678000677198706\n",
      "0.767948253177121\n",
      "0.7661540489351871\n",
      "0.7688603117300837\n",
      "0.7697193297212099\n",
      "0.7677326874298679\n",
      "0.770150287704876\n",
      "0.7679484554092937\n",
      "0.7696058563093826\n",
      "0.7683539026551378\n",
      "0.7706134076810244\n",
      "0.764268799164615\n",
      "0.7684102570048328\n",
      "0.768492208371347\n",
      "0.7685393433693448\n",
      "0.769454974354103\n",
      "0.769164475595382\n",
      "0.7671204603547788\n",
      "0.7692729649773906\n",
      "0.7679545668068166\n",
      "0.7681913807172234\n",
      "0.7670371489782772\n",
      "0.7691959997585613\n",
      "0.7674610921212914\n",
      "0.7710046932930881\n",
      "0.762050346521127\n",
      "0.7660287403195596\n",
      "0.7691700026820716\n",
      "0.768759286994978\n",
      "0.766776566357942\n",
      "0.7695264902306289\n",
      "0.7665701503885355\n",
      "0.7650364855992333\n",
      "0.7673440041758318\n",
      "0.7691462346139539\n",
      "0.7678147763784844\n",
      "0.7684165335039028\n",
      "0.7699648610719566\n",
      "0.7618787188528446\n",
      "0.7646144325095722\n",
      "0.7641284666984816\n",
      "0.7671325942414193\n",
      "0.7646398129428963\n",
      "0.7465581862389346\n",
      "0.7652727574213429\n",
      "0.7561846897549698\n",
      "0.7129574523821767\n",
      "0.766927909842412\n",
      "0.763784044951302\n",
      "0.7662800541784712\n",
      "0.7652543467656991\n",
      "0.7608272666573932\n",
      "0.7639817440984753\n",
      "0.7649713252218848\n",
      "0.7652098394667801\n",
      "0.7668136479481497\n",
      "0.7658026714186789\n",
      "0.7682251778390154\n",
      "0.7655073412301494\n",
      "0.7617902595567062\n",
      "0.7655121146989804\n",
      "0.7633888711304229\n",
      "0.7455651185977352\n",
      "0.7704716782371077\n",
      "0.7639603190931636\n",
      "0.7501179622207723\n",
      "0.7519945596518047\n",
      "0.7703630238365661\n",
      "0.7087109101383493\n",
      "0.7617663275698406\n",
      "0.7654220894951602\n",
      "0.7600128000616766\n",
      "0.766657718540085\n",
      "0.7677501612320377\n",
      "0.7677498109941623\n",
      "0.7683345516097904\n",
      "0.7617626713611503\n",
      "0.7638346948080964\n",
      "0.7610973216438328\n",
      "0.7640487475969483\n",
      "0.7556300863871852\n",
      "0.7629233820436475\n",
      "0.760317142656832\n",
      "0.7192697529721638\n",
      "0.6075139914872515\n",
      "0.6469261789222321\n",
      "0.7583148577605279\n",
      "0.6640648963566882\n"
     ]
    },
    {
     "data": {
      "text/plain": [
       "<BarContainer object of 50 artists>"
      ]
     },
     "execution_count": 51,
     "metadata": {},
     "output_type": "execute_result"
    },
    {
     "data": {
      "application/vnd.jupyter.widget-view+json": {
       "model_id": "1bfb57f24aa84555b7c4e06a23006c76",
       "version_major": 2,
       "version_minor": 0
      },
      "image/png": "[encoded data removed]",
      "text/html": [
       "\n",
       "            <div style=\"display: inline-block;\">\n",
       "                <div class=\"jupyter-widgets widget-label\" style=\"text-align: center;\">\n",
       "                    Figure\n",
       "                </div>\n",
       "                <img src='data:image/png;base64,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' width=640.0/>\n",
       "            </div>\n",
       "        "
      ],
      "text/plain": [
       "Canvas(toolbar=Toolbar(toolitems=[('Home', 'Reset original view', 'home', 'home'), ('Back', 'Back to previous …"
      ]
     },
     "metadata": {},
     "output_type": "display_data"
    }
   ],
   "source": [
    "features = X_test.columns\n",
    "imp = []\n",
    "for feature in features:\n",
    "    X_test_permutated = X_test.copy()\n",
    "    val = X_test_permutated[feature].sample(frac = 1)\n",
    "    val = val.values\n",
    "    X_test_permutated[feature] = val\n",
    "    y_predicted_per = model.predict(X_test_permutated)\n",
    "    accuracy = r2_score(y_test, y_predicted_per)\n",
    "    print(accuracy)\n",
    "    imp.append(accuracy - 0.7714)\n",
    "    \n",
    "imp = np.array(imp)   \n",
    "plt.figure()\n",
    "plt.bar(features[np.argsort(imp)][0:50], imp[np.argsort(imp)[0:50]]) "
   ]
  },
  {
   "cell_type": "code",
   "execution_count": 54,
   "id": "70c8bac0",
   "metadata": {},
   "outputs": [],
   "source": [
    "ordered_features = features[np.argsort(imp)]"
   ]
  },
  {
   "cell_type": "code",
   "execution_count": 38,
   "id": "501d278f",
   "metadata": {},
   "outputs": [],
   "source": [
    "features = np.array(features)\n",
    "feat_to_drop = features[np.argsort(imp)][70:]\n",
    "feat_to_drop = feat_to_drop.tolist()"
   ]
  },
  {
   "cell_type": "code",
   "execution_count": 40,
   "id": "1ed473e4",
   "metadata": {},
   "outputs": [],
   "source": [
    "feat_to_drop = feat_to_drop.tolist()"
   ]
  },
  {
   "cell_type": "code",
   "execution_count": 45,
   "id": "bf9bfee3",
   "metadata": {},
   "outputs": [],
   "source": [
    "feat_to_drop.remove('KG_climate_zone')"
   ]
  },
  {
   "cell_type": "code",
   "execution_count": null,
   "id": "6b7cc180",
   "metadata": {},
   "outputs": [],
   "source": [
    "plt.figure()\n",
    "plt.bar(features[np.argsort(imp)][0:50], imp[np.argsort(imp)[0:50]])"
   ]
  },
  {
   "cell_type": "code",
   "execution_count": null,
   "id": "94ca597f",
   "metadata": {},
   "outputs": [],
   "source": [
    "imp[np.argsort(imp)[0:50]]"
   ]
  },
  {
   "cell_type": "code",
   "execution_count": null,
   "id": "a1fe9cb0",
   "metadata": {},
   "outputs": [],
   "source": [
    "len(features)-60"
   ]
  },
  {
   "cell_type": "code",
   "execution_count": null,
   "id": "be116206",
   "metadata": {},
   "outputs": [],
   "source": [
    "from sklearn.pipeline import Pipeline\n",
    "from sklearn.preprocessing import StandardScaler, RobustScaler\n",
    "from sklearn.preprocessing import QuantileTransformer, PowerTransformer\n",
    "from sklearn.preprocessing import KBinsDiscretizer\n",
    "\n",
    "from sklearn.decomposition import PCA\n",
    "\n",
    "pipeline = Pipeline([ ('disc', KBinsDiscretizer(n_bins=1000, encode='ordinal', strategy='uniform')),                     \n",
    "                    ('model', gb)])\n",
    "kwargs = {pipeline.steps[-1][0] + '__sample_weight': w/w}\n",
    "pipeline.fit(X_train, y_train, **kwargs)\n",
    "\n",
    "plt.figure()\n",
    "ypredict = pipeline.predict(X_test)\n",
    "\n",
    "w2 = 1.0/Test_freq\n",
    "#w2 = w2/np.sum(w)\n",
    "w2 = w2/np.max(w2)\n",
    "\n",
    "accuracy = r2_score(y_test, ypredict, sample_weight=w2/w2)\n",
    "accuracy\n",
    "\n",
    "plt.scatter(y_test, ypredict, s = 4)\n",
    "plt.plot([min(y_test), max(y_test)], [min(y_test), max(y_test)], 'r')\n",
    "#plt.gca().set_yscale('log')\n",
    "#plt.gca().set_xscale('log')\n",
    "plt.title(\"$R^2 = ${}\".format(accuracy))\n",
    "plt.xlabel(\"Actual PC Water Use\")\n",
    "plt.ylabel(\"Estimated PC Water Use\")\n",
    "plt.grid()\n",
    "plt.show()"
   ]
  },
  {
   "cell_type": "markdown",
   "id": "ab852d43",
   "metadata": {},
   "source": [
    "## Pipeline\n",
    "### Categorical encoding"
   ]
  },
  {
   "cell_type": "code",
   "execution_count": null,
   "id": "e7bcae6c",
   "metadata": {},
   "outputs": [],
   "source": [
    "# (A.2) transformation of categorical features\n",
    "categorical_features = ['HUC2', 'state_id',  'KG_climate_zone', 'county_id' ]\n",
    "categorical_transformer = OneHotEncoder(handle_unknown=\"ignore\")\n",
    "\n"
   ]
  },
  {
   "cell_type": "code",
   "execution_count": null,
   "id": "16fc23a4",
   "metadata": {},
   "outputs": [],
   "source": [
    "# drop_before_preprocess = ['sys_id']\n",
    "# categorical_features = ['HUC2', 'state_id',  'KG_climate_zone', 'county_id' ]\n",
    "# ohc1 = MultiOneHotEncoder(catfeatures = categorical_features )\n",
    "# dataset = ohc1.transform(dataset)"
   ]
  },
  {
   "cell_type": "code",
   "execution_count": null,
   "id": "8b662aed",
   "metadata": {},
   "outputs": [],
   "source": [
    "# for i in dataset.columns:\n",
    "#     print(i)"
   ]
  },
  {
   "cell_type": "markdown",
   "id": "e1fdc093",
   "metadata": {},
   "source": [
    "# Estimating Water Use without Log transformation"
   ]
  },
  {
   "cell_type": "code",
   "execution_count": null,
   "id": "49ef09fd",
   "metadata": {},
   "outputs": [],
   "source": [
    "\n"
   ]
  },
  {
   "cell_type": "code",
   "execution_count": null,
   "id": "17ae4ca3",
   "metadata": {},
   "outputs": [],
   "source": [
    "# columns to drop\n",
    "columns_to_drop = ['population', 'sys_id', 'pc']\n",
    "df = dataset.copy()\n",
    "df['pc'] = df['wu_rate']/df['pop']\n",
    "df = df[df['pop']>100]\n",
    "mask = (df['pc']>20) & (df['pc']<500)\n",
    "df = df[mask]\n",
    "\n",
    "df = df.drop(columns_to_drop, axis=1)\n",
    "features = list(df.columns)\n",
    "features.remove('wu_rate')\n",
    "X =df[features]\n",
    "y = df['wu_rate']"
   ]
  },
  {
   "cell_type": "code",
   "execution_count": null,
   "id": "c887a75b",
   "metadata": {},
   "outputs": [],
   "source": [
    "df.columns"
   ]
  },
  {
   "cell_type": "code",
   "execution_count": null,
   "id": "bf64606e",
   "metadata": {},
   "outputs": [],
   "source": [
    "X_train, X_test, y_train, y_test = train_test_split(X, y, test_size=0.2, random_state = 123)"
   ]
  },
  {
   "cell_type": "code",
   "execution_count": null,
   "id": "d46d97de",
   "metadata": {},
   "outputs": [],
   "source": [
    "#squaredlogerror\n",
    "#squarederror\n",
    "gb = xgb.XGBRegressor(objective='reg:squarederror', colsample_bytree=0.8, learning_rate=0.1,\n",
    "                              max_depth=7, alpha=0.01, n_estimators=500, rate_drop=0.9, skip_drop=0.5, subsample=0.8,\n",
    "                              seed = 123, reg_lambda=0.0)"
   ]
  },
  {
   "cell_type": "code",
   "execution_count": null,
   "id": "c211d875",
   "metadata": {
    "scrolled": true
   },
   "outputs": [],
   "source": [
    "gb.fit(X_train, y_train)"
   ]
  },
  {
   "cell_type": "code",
   "execution_count": null,
   "id": "64b217af",
   "metadata": {},
   "outputs": [],
   "source": [
    "ypredict = gb.predict(X_test)\n",
    "accuracy = r2_score(y_test, ypredict)"
   ]
  },
  {
   "cell_type": "code",
   "execution_count": null,
   "id": "3e59495c",
   "metadata": {},
   "outputs": [],
   "source": [
    "plt.figure()\n",
    "accuracy = int(accuracy*100)/100.0\n",
    "plt.scatter(y_test, ypredict, s = 4)\n",
    "plt.plot([min(y_test), max(y_test)], [min(y_test), max(y_test)], 'r')\n",
    "plt.gca().set_yscale('log')\n",
    "plt.gca().set_xscale('log')\n",
    "plt.title(\"$R^2 = ${}\".format(accuracy))\n",
    "plt.xlabel(\"Actual Water Use\")\n",
    "plt.ylabel(\"Estimated Water Use\")\n",
    "plt.grid()\n",
    "plt.show()"
   ]
  },
  {
   "cell_type": "markdown",
   "id": "428f0e5e",
   "metadata": {},
   "source": [
    "## Log water use & population "
   ]
  },
  {
   "cell_type": "code",
   "execution_count": null,
   "id": "8e382c02",
   "metadata": {},
   "outputs": [],
   "source": [
    "# columns to drop\n",
    "columns_to_drop = ['population', 'sys_id', 'pc']\n",
    "df = dataset.copy()\n",
    "df = df[df['wu_rate']>100]\n",
    "df['pc'] = df['wu_rate']/df['pop']\n",
    "df = df[df['pop']>100]\n",
    "mask = (df['pc']>20) & (df['pc']<500)\n",
    "df = df[mask]\n",
    "\n",
    "df = df.drop(columns_to_drop, axis=1)\n",
    "df['pop'] = np.log10(df['pop'])\n",
    "df['wu_rate'] = np.log10(df['wu_rate'])\n",
    "features = list(df.columns)\n",
    "features.remove('wu_rate')\n",
    "\n",
    "\n",
    "X =df[features]\n",
    "y = df['wu_rate']"
   ]
  },
  {
   "cell_type": "code",
   "execution_count": null,
   "id": "da9b5693",
   "metadata": {},
   "outputs": [],
   "source": [
    "X_train, X_test, y_train, y_test = train_test_split(X, y, test_size=0.2, random_state = 123)"
   ]
  },
  {
   "cell_type": "code",
   "execution_count": null,
   "id": "f0c2f5f7",
   "metadata": {},
   "outputs": [],
   "source": [
    "gb = xgb.XGBRegressor(objective='reg:squarederror', colsample_bytree=0.8, learning_rate=0.01,\n",
    "                              max_depth=7, alpha=0.01, n_estimators=500, rate_drop=0.9, skip_drop=0.5, subsample=0.8,\n",
    "                              seed = 123, reg_lambda=0.0)"
   ]
  },
  {
   "cell_type": "code",
   "execution_count": null,
   "id": "e5f2658e",
   "metadata": {},
   "outputs": [],
   "source": [
    "gb.fit(X_train, y_train)"
   ]
  },
  {
   "cell_type": "code",
   "execution_count": null,
   "id": "55ed6534",
   "metadata": {},
   "outputs": [],
   "source": [
    "ypredict = gb.predict(X_test)\n",
    "accuracy = r2_score(y_test, ypredict)\n",
    "accuracy"
   ]
  },
  {
   "cell_type": "code",
   "execution_count": null,
   "id": "b6dd0724",
   "metadata": {},
   "outputs": [],
   "source": [
    "plt.figure()\n",
    "accuracy = int(accuracy*100)/100.0\n",
    "plt.scatter(10**y_test, 10**ypredict, s = 4)\n",
    "plt.plot([min(10**y_test), max(10**y_test)], [min(10**y_test), max(10**y_test)], 'r')\n",
    "plt.gca().set_yscale('log')\n",
    "plt.gca().set_xscale('log')\n",
    "plt.title(\"$R^2 = ${}\".format(accuracy))\n",
    "plt.xlabel(\"Actual Water Use\")\n",
    "plt.ylabel(\"Estimated Water Use\")\n",
    "plt.grid()\n",
    "plt.show()"
   ]
  },
  {
   "cell_type": "code",
   "execution_count": null,
   "id": "736b5f97",
   "metadata": {},
   "outputs": [],
   "source": [
    "plt.figure()\n",
    "pc_test = (10**y_test)/(10**X_test['pop'])\n",
    "pc_predict =  (10**ypredict)/(10**X_test['pop'])\n",
    "accuracy = r2_score(pc_test, pc_predict )\n",
    "plt.scatter(pc_test, pc_predict, s = 4)\n",
    "\n",
    "plt.plot([min(pc_test), max(pc_test)], [min(pc_test), max(pc_test)], 'r')\n",
    "#plt.gca().set_yscale('log')\n",
    "#plt.gca().set_xscale('log')\n",
    "plt.title(\"$R^2 = ${}\".format(accuracy))\n",
    "plt.xlabel(\"Actual Water Use\")\n",
    "plt.ylabel(\"Estimated Water Use\")\n",
    "plt.grid()\n",
    "plt.show()"
   ]
  },
  {
   "cell_type": "markdown",
   "id": "84d5a6bd",
   "metadata": {},
   "source": [
    "## Quantile Regression"
   ]
  },
  {
   "cell_type": "markdown",
   "id": "06edd75d",
   "metadata": {},
   "source": [
    "## Use Xgboost"
   ]
  },
  {
   "cell_type": "code",
   "execution_count": null,
   "id": "44e7b842",
   "metadata": {},
   "outputs": [],
   "source": [
    "# # columns to drop\n",
    "# columns_to_drop = ['population', 'sys_id', 'pc']\n",
    "# df = dataset.copy()\n",
    "# df = df[df['wu_rate']>0]\n",
    "# df['pc'] = df['wu_rate']/df['pop']\n",
    "# df = df[df['pop']>1000]\n",
    "# mask = (df['pc']>20) & (df['pc']<400)\n",
    "# df = df[mask]\n",
    "\n",
    "# df = df.drop(columns_to_drop, axis=1)\n",
    "# df['pop'] = np.log10(df['pop'])\n",
    "# df['wu_rate'] = np.log10(df['wu_rate'])\n",
    "# features = list(df.columns)\n",
    "# features.remove('wu_rate')\n",
    "\n",
    "\n",
    "# X =df[features]\n",
    "# y = df['wu_rate']"
   ]
  },
  {
   "cell_type": "code",
   "execution_count": null,
   "id": "0de91b1f",
   "metadata": {},
   "outputs": [],
   "source": [
    "#X_train, X_test, y_train, y_test = train_test_split(X, y, test_size=0.2, random_state = 123)"
   ]
  },
  {
   "cell_type": "code",
   "execution_count": null,
   "id": "97553571",
   "metadata": {},
   "outputs": [],
   "source": [
    "def myfunc(quantile):\n",
    "    def _myfunc(y_true, y_pred):\n",
    "        errors = y_pred - y_true\n",
    "        left_mask = errors < 0\n",
    "        right_mask = errors > 0\n",
    "\n",
    "        grad = -quantile * left_mask + (1 - quantile) * right_mask\n",
    "        hess =  np.ones_like(y_pred)\n",
    "\n",
    "        return grad, hess\n",
    "    return _myfunc"
   ]
  },
  {
   "cell_type": "code",
   "execution_count": null,
   "id": "f0091b6d",
   "metadata": {},
   "outputs": [],
   "source": [
    "# log cosh quantile is a regularized quantile loss function\n",
    "def log_cosh_quantile(alpha):\n",
    "    def _log_cosh_quantile(y_true, y_pred):\n",
    "        err = y_pred - y_true\n",
    "        err = np.where(err < 0, alpha * err, (1 - alpha) * err)\n",
    "        grad = np.tanh(err)\n",
    "        hess = 1 / np.cosh(err)**2\n",
    "        hess[hess<0.01] =0.01 \n",
    "        #hess = np.ones_like(hess)\n",
    "        \n",
    "        return grad, hess\n",
    "    return _log_cosh_quantile"
   ]
  },
  {
   "cell_type": "code",
   "execution_count": null,
   "id": "f3818e32",
   "metadata": {},
   "outputs": [],
   "source": [
    "1 / np.cosh(-1000)**2"
   ]
  },
  {
   "cell_type": "code",
   "execution_count": null,
   "id": "bba1afdb",
   "metadata": {},
   "outputs": [],
   "source": [
    "def original_quantile_loss(alpha,delta):\n",
    "    def _original_quantile_loss(y_true,y_pred):\n",
    "        x = y_true - y_pred\n",
    "        grad = (x<(alpha-1.0)*delta)*(1.0-alpha)-((x>=(alpha-1.0)*delta)& (x<alpha*delta) )*x/delta-alpha*(x>alpha*delta)\n",
    "        hess = ((x>=(alpha-1.0)*delta)& (x<alpha*delta) )/delta \n",
    "        return grad,hess\n",
    "    return _original_quantile_loss"
   ]
  },
  {
   "cell_type": "code",
   "execution_count": null,
   "id": "a0a05488",
   "metadata": {},
   "outputs": [],
   "source": [
    "quantile_alphas = [0.1, 0.5, 0.90]\n",
    "\n",
    "xgb_quantile_alphas = {}\n",
    "for quantile_alpha in quantile_alphas:\n",
    "    # to train a quantile regression, we change the objective parameter and\n",
    "    # specify the quantile value we're interested in\n",
    "    gb = xgb.XGBRegressor(objective=log_cosh_quantile(quantile_alpha), colsample_bytree=0.8, learning_rate=0.05,\n",
    "                              max_depth=5, alpha=0.01, n_estimators=500, rate_drop=0.9, skip_drop=0.5, subsample=0.8,\n",
    "                              seed = 323, reg_lambda=0.01)\n",
    "    gb.fit(X_train, y_train)\n",
    "    xgb_quantile_alphas[quantile_alpha] = gb"
   ]
  },
  {
   "cell_type": "code",
   "execution_count": null,
   "id": "25cac07b",
   "metadata": {},
   "outputs": [],
   "source": [
    "plt.figure()\n",
    "for quantile_alpha, lgb in xgb_quantile_alphas.items():\n",
    "    ypredict = lgb.predict(X_test)\n",
    "    plt.scatter(10**y_test, 10**ypredict, s = 4, label = \"{}\".format\n",
    "                (quantile_alpha))\n",
    "plt.gca().set_yscale('log')\n",
    "plt.gca().set_xscale('log')\n",
    "plt.legend()\n",
    "lim = [min(10**y_test), max(10**y_test)]\n",
    "plt.plot(lim, lim, 'k')\n",
    "plt.xlabel(\"Actual Water Use\")\n",
    "plt.ylabel(\"Estimated Water Use\")"
   ]
  },
  {
   "cell_type": "code",
   "execution_count": null,
   "id": "a65e9440",
   "metadata": {},
   "outputs": [],
   "source": []
  },
  {
   "cell_type": "code",
   "execution_count": null,
   "id": "332e3e1f",
   "metadata": {},
   "outputs": [],
   "source": [
    "\n"
   ]
  },
  {
   "cell_type": "code",
   "execution_count": null,
   "id": "c2419f6e",
   "metadata": {},
   "outputs": [],
   "source": []
  },
  {
   "cell_type": "markdown",
   "id": "4d5a86ff",
   "metadata": {},
   "source": [
    "## Use Ligh GBM"
   ]
  },
  {
   "cell_type": "code",
   "execution_count": null,
   "id": "c9eedc11",
   "metadata": {},
   "outputs": [],
   "source": [
    "from lightgbm import LGBMRegressor"
   ]
  },
  {
   "cell_type": "code",
   "execution_count": null,
   "id": "9c124153",
   "metadata": {},
   "outputs": [],
   "source": [
    "lgb_params = {\n",
    "    'n_jobs': 1,\n",
    "    'max_depth': 4,\n",
    "    'min_data_in_leaf': 10,\n",
    "    'subsample': 0.9,\n",
    "    'n_estimators': 80,\n",
    "    'learning_rate': 0.1,\n",
    "    'colsample_bytree': 0.9,\n",
    "    'boosting_type': 'gbdt'\n",
    "}"
   ]
  },
  {
   "cell_type": "code",
   "execution_count": null,
   "id": "81e9657f",
   "metadata": {},
   "outputs": [],
   "source": [
    "quantile_alphas = [0.1, 0.5, 0.90]\n",
    "\n",
    "lgb_quantile_alphas = {}\n",
    "for quantile_alpha in quantile_alphas:\n",
    "    # to train a quantile regression, we change the objective parameter and\n",
    "    # specify the quantile value we're interested in\n",
    "    lgb = LGBMRegressor(objective='quantile', alpha=quantile_alpha, **lgb_params)\n",
    "    lgb.fit(X_train, y_train)\n",
    "    lgb_quantile_alphas[quantile_alpha] = lgb"
   ]
  },
  {
   "cell_type": "code",
   "execution_count": null,
   "id": "48636230",
   "metadata": {},
   "outputs": [],
   "source": [
    "plt.figure()\n",
    "for quantile_alpha, lgb in lgb_quantile_alphas.items():\n",
    "    ypredict = lgb.predict(X_test)\n",
    "    plt.scatter(10**y_test, 10**ypredict, s = 4, label = \"{}\".format\n",
    "                (quantile_alpha))\n",
    "plt.gca().set_yscale('log')\n",
    "plt.gca().set_xscale('log')\n",
    "plt.legend()\n",
    "lim = [min(10**y_test), max(10**y_test)]\n",
    "plt.plot(lim, lim, 'k')\n",
    "plt.xlabel(\"Actual Water Use\")\n",
    "plt.ylabel(\"Estimated Water Use\")"
   ]
  },
  {
   "cell_type": "markdown",
   "id": "590fade0",
   "metadata": {},
   "source": [
    "# Dimension-reduction"
   ]
  },
  {
   "cell_type": "code",
   "execution_count": null,
   "id": "71ed6bbc",
   "metadata": {
    "lines_to_next_cell": 2
   },
   "outputs": [],
   "source": [
    "columns_to_drop = ['population', 'sys_id', 'wu_rate', 'pop', 'households2', 'n_employed', 'n_houses']\n",
    "df = dataset.copy()\n",
    "\n",
    "df['pc'] = df['wu_rate']/df['pop']\n",
    "df = df[df['pop']>100]\n",
    "mask = (df['pc']>20) & (df['pc']<500)\n",
    "df = df[mask]\n",
    "\n",
    "\n",
    "df = df.drop(columns_to_drop, axis=1)\n",
    "features = list(df.columns)\n",
    "features.remove('pc')\n",
    "X =df[features]\n",
    "y = df['pc']"
   ]
  },
  {
   "cell_type": "code",
   "execution_count": null,
   "id": "c491b6e3",
   "metadata": {},
   "outputs": [],
   "source": [
    "from sklearn.decomposition import PCA\n",
    "pca = PCA(n_components=10, whiten = True)\n",
    "pca.fit(X)\n",
    "\n",
    "print(pca.explained_variance_ratio_)\n",
    "\n",
    "print(pca.singular_values_)"
   ]
  },
  {
   "cell_type": "code",
   "execution_count": null,
   "id": "c5e96ef0",
   "metadata": {},
   "outputs": [],
   "source": [
    "pca.transform(X)"
   ]
  },
  {
   "cell_type": "markdown",
   "id": "c4a29621",
   "metadata": {},
   "source": [
    "# Testing more ideas for estimating Per Capita "
   ]
  },
  {
   "cell_type": "code",
   "execution_count": null,
   "id": "846a2c7e",
   "metadata": {},
   "outputs": [],
   "source": [
    "def make_dataset(dataset = dataset, filters = [], drop_cols = [] ):\n",
    "    pass\n",
    "    \n"
   ]
  },
  {
   "cell_type": "markdown",
   "id": "ef099700",
   "metadata": {},
   "source": [
    "## No action"
   ]
  },
  {
   "cell_type": "code",
   "execution_count": null,
   "id": "fa9f56a8",
   "metadata": {},
   "outputs": [],
   "source": [
    " \n",
    "columns_to_drop = ['population', 'sys_id', 'wu_rate']\n",
    "df = dataset.copy()\n",
    "\n",
    "df['pc'] = df['wu_rate']/df['pop']\n",
    "df = df[df['pop']>100]\n",
    "mask = (df['pc']>20) & (df['pc']<500)\n",
    "df = df[mask]\n",
    "\n",
    "\n",
    "df = df.drop(columns_to_drop, axis=1)\n",
    "features = list(df.columns)\n",
    "features.remove('pc')\n",
    "X =df[features]\n",
    "y = df['pc']\n",
    "\n",
    "#squarederror\n",
    "X_train, X_test, y_train, y_test = train_test_split(X, y, test_size=0.2, random_state = 123)\n",
    "gb = xgb.XGBRegressor(objective=\"reg:squarederror\", colsample_bytree=0.8, learning_rate=0.1,\n",
    "                              max_depth=7, alpha=0.01, n_estimators=500, rate_drop=0.9, skip_drop=0.5, subsample=0.8,\n",
    "                              seed = 123, reg_lambda=0.0)\n",
    "\n",
    "w = np.exp(1e-2*np.power((y_train-200)/10, 2.0))\n",
    "w = w/np.sum(w)\n",
    "w = w.values\n",
    "w = w/np.max(w)\n",
    "gb.fit(X_train, y_train, sample_weight=w/w)\n",
    "plt.figure()\n",
    "ypredict = gb.predict(X_test)\n",
    "\n",
    "w2 = np.exp(1e-3*np.power((y_test-200)/10, 2.0))\n",
    "w2 = w2/np.sum(w)\n",
    "w2 = w2.values\n",
    "w2 = w2/np.max(w2)\n",
    "\n",
    "accuracy = r2_score(y_test, ypredict, sample_weight=w2/w2)\n",
    "accuracy\n",
    "\n",
    "plt.scatter(y_test, ypredict, s = 4)\n",
    "plt.plot([min(y_test), max(y_test)], [min(y_test), max(y_test)], 'r')\n",
    "#plt.gca().set_yscale('log')\n",
    "#plt.gca().set_xscale('log')\n",
    "plt.title(\"$R^2 = ${}\".format(accuracy))\n",
    "plt.xlabel(\"Actual PC Water Use\")\n",
    "plt.ylabel(\"Estimated PC Water Use\")\n",
    "plt.grid()\n",
    "plt.show()"
   ]
  },
  {
   "cell_type": "code",
   "execution_count": null,
   "id": "8267a354",
   "metadata": {},
   "outputs": [],
   "source": []
  },
  {
   "cell_type": "code",
   "execution_count": null,
   "id": "9d622212",
   "metadata": {},
   "outputs": [],
   "source": [
    "\n",
    "columns_to_drop = ['population', 'sys_id', 'wu_rate']\n",
    "df = dataset.copy()\n",
    "del(df['pc_median'])\n",
    "df['pc'] = df['wu_rate']/df['pop']\n",
    "df = df[df['pop']>1000]\n",
    "mask = (df['pc']>20) & (df['pc']<500)\n",
    "df = df[mask]\n",
    "\n",
    "\n",
    "df = df.drop(columns_to_drop, axis=1)\n",
    "features = list(df.columns)\n",
    "features.remove('pc')\n",
    "X =df[features]\n",
    "y = df['pc']\n",
    "\n",
    "# \n",
    "plt.figure()\n",
    "v_freq = plt.hist(df['pc'].values, bins = 30)\n",
    "freq = np.interp(df['pc'].values, v_freq[1][1:], v_freq[0], left=None, right=None, period=None)\n",
    "X['freq'] = freq\n",
    "#squarederror\n",
    "X_train, X_test, y_train, y_test = train_test_split(X, y, test_size=0.25, random_state = 123)\n",
    "Train_freq = X_train['freq']\n",
    "Test_freq = X_test['freq']\n",
    "del(X_test['freq'])\n",
    "del(X_train['freq'])\n",
    "\n",
    "#squarederror\n",
    "#X_train, X_test, y_train, y_test = train_test_split(X, y, test_size=0.2, random_state = 123)\n",
    "gb = xgb.XGBRegressor(objective=\"reg:squarederror\", tree_method = 'hist', colsample_bytree=0.8, learning_rate=0.20,\n",
    "                              max_depth=7, alpha=100,  n_estimators=500, rate_drop=0.9, skip_drop=0.5, subsample=0.8,\n",
    "                              seed = 123, reg_lambda=10, min_child_weight = 1, gamma = 10, max_delta_step = 0, \n",
    "                           )\n",
    "#gb = xgb.XGBRegressor(objective=\"reg:squarederror\" )\n",
    "\n",
    "\n",
    "w = 1.0/Train_freq\n",
    "#w = w/np.sum(w)\n",
    "w = w/np.max(w)\n",
    "gb.fit(X_train, y_train, sample_weight=w/w)\n",
    "plt.figure()\n",
    "ypredict = gb.predict(X_test)\n",
    "\n",
    "w2 = 1.0/Test_freq\n",
    "#w2 = w2/np.sum(w)\n",
    "w2 = w2/np.max(w2)\n",
    "\n",
    "accuracy = r2_score(y_test, ypredict, sample_weight=w2/w2)\n",
    "accuracy\n",
    "\n",
    "plt.scatter(y_test, ypredict, s = 4)\n",
    "plt.plot([min(y_test), max(y_test)], [min(y_test), max(y_test)], 'r')\n",
    "#plt.gca().set_yscale('log')\n",
    "#plt.gca().set_xscale('log')\n",
    "plt.title(\"$R^2 = ${}\".format(accuracy))\n",
    "plt.xlabel(\"Actual PC Water Use\")\n",
    "plt.ylabel(\"Estimated PC Water Use\")\n",
    "plt.grid()\n",
    "plt.show()"
   ]
  },
  {
   "cell_type": "markdown",
   "id": "1f1030fb",
   "metadata": {},
   "source": [
    "# Use Pipeline \n"
   ]
  },
  {
   "cell_type": "code",
   "execution_count": null,
   "id": "867f08ac",
   "metadata": {
    "lines_to_next_cell": 2
   },
   "outputs": [],
   "source": [
    "\n",
    "\n",
    "# (A.1) transformation of numeric features\n",
    "numeric_features = [\"age\", \"fare\"]\n",
    "numeric_transformer = Pipeline(\n",
    "    steps=[(\"imputer\", SimpleImputer(strategy=\"median\")), (\"scaler\", StandardScaler())]\n",
    ")\n",
    "\n",
    "# (A.2) transformation of categorical features\n",
    "categorical_features = [\"embarked\", \"sex\", \"pclass\"]\n",
    "categorical_transformer = OneHotEncoder(handle_unknown=\"ignore\")\n",
    "\n",
    "\n",
    "# (A.3)do all preprocessing\n",
    "preprocessor = ColumnTransformer(\n",
    "    transformers=[\n",
    "        (\"num\", numeric_transformer, numeric_features),\n",
    "        (\"cat\", categorical_transformer, categorical_features),\n",
    "    ]\n",
    ")\n",
    "\n",
    "#  (B.1) complete pipeline\n",
    "clf = Pipeline(\n",
    "    steps=[(\"preprocessor\", preprocessor), (\"classifier\", LogisticRegression())]\n",
    ")"
   ]
  },
  {
   "cell_type": "code",
   "execution_count": null,
   "id": "5f5d822f",
   "metadata": {},
   "outputs": [],
   "source": [
    "from sklearn import set_config\n",
    "\n",
    "set_config(display=\"diagram\")\n",
    "clf"
   ]
  },
  {
   "cell_type": "code",
   "execution_count": null,
   "id": "1a722d2a",
   "metadata": {},
   "outputs": [],
   "source": [
    "## Scaling"
   ]
  },
  {
   "cell_type": "code",
   "execution_count": null,
   "id": "0261fc6e",
   "metadata": {},
   "outputs": [],
   "source": [
    "from sklearn.pipeline import Pipeline\n",
    "from sklearn.preprocessing import StandardScaler\n",
    "from sklearn.preprocessing import RobustScaler\n",
    "from sklearn.decomposition import PCA\n",
    "\n",
    "pipeline = Pipeline([ ('robost_scaler', RobustScaler()),                     \n",
    "                    ('model', gb)])\n",
    "kwargs = {pipeline.steps[-1][0] + '__sample_weight': w/w}\n",
    "pipeline.fit(X_train, y_train, **kwargs)\n",
    "\n",
    "plt.figure()\n",
    "ypredict = pipeline.predict(X_test)\n",
    "\n",
    "w2 = 1.0/Test_freq\n",
    "#w2 = w2/np.sum(w)\n",
    "w2 = w2/np.max(w2)\n",
    "\n",
    "accuracy = r2_score(y_test, ypredict, sample_weight=w2/w2)\n",
    "accuracy\n",
    "\n",
    "plt.scatter(y_test, ypredict, s = 4)\n",
    "plt.plot([min(y_test), max(y_test)], [min(y_test), max(y_test)], 'r')\n",
    "#plt.gca().set_yscale('log')\n",
    "#plt.gca().set_xscale('log')\n",
    "plt.title(\"$R^2 = ${}\".format(accuracy))\n",
    "plt.xlabel(\"Actual PC Water Use\")\n",
    "plt.ylabel(\"Estimated PC Water Use\")\n",
    "plt.grid()\n",
    "plt.show()"
   ]
  },
  {
   "cell_type": "code",
   "execution_count": null,
   "id": "3f8532f8",
   "metadata": {},
   "outputs": [],
   "source": [
    "from sklearn.pipeline import Pipeline\n",
    "from sklearn.preprocessing import StandardScaler, RobustScaler\n",
    "from sklearn.preprocessing import QuantileTransformer, PowerTransformer\n",
    "\n",
    "from sklearn.decomposition import PCA\n",
    "\n",
    "pipeline = Pipeline([ ('uniform_dist', PowerTransformer()),                     \n",
    "                    ('model', gb)])\n",
    "kwargs = {pipeline.steps[-1][0] + '__sample_weight': w/w}\n",
    "pipeline.fit(X_train, y_train, **kwargs)\n",
    "\n",
    "plt.figure()\n",
    "ypredict = pipeline.predict(X_test)\n",
    "\n",
    "w2 = 1.0/Test_freq\n",
    "#w2 = w2/np.sum(w)\n",
    "w2 = w2/np.max(w2)\n",
    "\n",
    "accuracy = r2_score(y_test, ypredict, sample_weight=w2/w2)\n",
    "accuracy\n",
    "\n",
    "plt.scatter(y_test, ypredict, s = 4)\n",
    "plt.plot([min(y_test), max(y_test)], [min(y_test), max(y_test)], 'r')\n",
    "#plt.gca().set_yscale('log')\n",
    "#plt.gca().set_xscale('log')\n",
    "plt.title(\"$R^2 = ${}\".format(accuracy))\n",
    "plt.xlabel(\"Actual PC Water Use\")\n",
    "plt.ylabel(\"Estimated PC Water Use\")\n",
    "plt.grid()\n",
    "plt.show()"
   ]
  },
  {
   "cell_type": "code",
   "execution_count": null,
   "id": "e42370dd",
   "metadata": {},
   "outputs": [],
   "source": [
    "from sklearn.pipeline import Pipeline\n",
    "from sklearn.preprocessing import StandardScaler, RobustScaler\n",
    "from sklearn.preprocessing import QuantileTransformer, PowerTransformer\n",
    "from sklearn.preprocessing import KBinsDiscretizer\n",
    "\n",
    "from sklearn.decomposition import PCA\n",
    "\n",
    "pipeline = Pipeline([ ('disc', KBinsDiscretizer(n_bins=1000, encode='ordinal', strategy='uniform')),                     \n",
    "                    ('model', gb)])\n",
    "kwargs = {pipeline.steps[-1][0] + '__sample_weight': w/w}\n",
    "pipeline.fit(X_train, y_train, **kwargs)\n",
    "\n",
    "plt.figure()\n",
    "ypredict = pipeline.predict(X_test)\n",
    "\n",
    "w2 = 1.0/Test_freq\n",
    "#w2 = w2/np.sum(w)\n",
    "w2 = w2/np.max(w2)\n",
    "\n",
    "accuracy = r2_score(y_test, ypredict, sample_weight=w2/w2)\n",
    "accuracy\n",
    "\n",
    "plt.scatter(y_test, ypredict, s = 4)\n",
    "plt.plot([min(y_test), max(y_test)], [min(y_test), max(y_test)], 'r')\n",
    "#plt.gca().set_yscale('log')\n",
    "#plt.gca().set_xscale('log')\n",
    "plt.title(\"$R^2 = ${}\".format(accuracy))\n",
    "plt.xlabel(\"Actual PC Water Use\")\n",
    "plt.ylabel(\"Estimated PC Water Use\")\n",
    "plt.grid()\n",
    "plt.show()"
   ]
  },
  {
   "cell_type": "code",
   "execution_count": null,
   "id": "b571756a",
   "metadata": {},
   "outputs": [],
   "source": [
    "# plot feature importance\n",
    "# ‘weight’: the number of times a feature is used to split the data across all trees.\n",
    "\n",
    "# ‘gain’: the average gain across all splits the feature is used in.\n",
    "\n",
    "# ‘cover’: the average coverage across all splits the feature is used in.\n",
    "\n",
    "# ‘total_gain’: the total gain across all splits the feature is used in.\n",
    "\n",
    "# ‘total_cover’: the total coverage across all splits the feature is used in.\n",
    "plot_importance(gb,   xlabel='total_gain', importance_type='total_gain', max_num_features = 10)\n",
    "from sklearn.feature_selection import SelectFromModel\n",
    "plt.tight_layout()"
   ]
  },
  {
   "cell_type": "code",
   "execution_count": null,
   "id": "41fd842b",
   "metadata": {},
   "outputs": [],
   "source": [
    "# Another look at importance"
   ]
  },
  {
   "cell_type": "code",
   "execution_count": null,
   "id": "17f5a2c0",
   "metadata": {},
   "outputs": [],
   "source": [
    "plt.figure()\n",
    "ypredict = gb.predict(X_test)\n",
    "\n",
    "w2 = 1.0/Test_freq\n",
    "#w2 = w2/np.sum(w)\n",
    "w2 = w2/np.max(w2)\n",
    "\n",
    "accuracy = r2_score(y_test, ypredict, sample_weight=w2/w2)\n",
    "accuracy\n",
    "\n",
    "plt.scatter(y_test, ypredict, s = 4)\n",
    "plt.plot([min(y_test), max(y_test)], [min(y_test), max(y_test)], 'r')\n",
    "#plt.gca().set_yscale('log')\n",
    "#plt.gca().set_xscale('log')\n",
    "plt.title(\"$R^2 = ${}\".format(accuracy))\n",
    "plt.xlabel(\"Actual PC Water Use\")\n",
    "plt.ylabel(\"Estimated PC Water Use\")\n",
    "plt.grid()\n",
    "plt.show()"
   ]
  },
  {
   "cell_type": "code",
   "execution_count": null,
   "id": "860aa749",
   "metadata": {},
   "outputs": [],
   "source": [
    "# Tuning\n",
    "gb.get_params()\n",
    "# params = {'colsample_bylevel': scipy.stats.uniform (loc = 0.1, scale=0.9),\n",
    "#     'colsample_bynode': scipy.stats.uniform (loc = 0.1, scale=0.9),\n",
    "#     'colsample_bytree': scipy.stats.uniform (loc = 0.1, scale=0.9),\n",
    "#     'gamma': scipy.stats.uniform (loc = 0, scale=100),\n",
    "#     'learning_rate': scipy.stats.uniform (loc = 0.001, scale=0.4),\n",
    "#     'max_depth': [3,4,5,6,7,8,9, 10],\n",
    "#     'min_child_weight' : scipy.stats.uniform (loc = 0 scale=1000),\n",
    "#     'reg_alpha': 100,\n",
    "#      'reg_lambda': 10,\n",
    "#      'subsample': 0.8\n",
    "#     }"
   ]
  },
  {
   "cell_type": "code",
   "execution_count": null,
   "id": "6018c8e9",
   "metadata": {
    "lines_to_next_cell": 2
   },
   "outputs": [],
   "source": [
    "from pycaret.regression import *\n",
    "\n",
    "columns_to_drop = ['population', 'sys_id', 'wu_rate']\n",
    "df = dataset.copy()\n",
    "del(df['pc_median'])\n",
    "df['pc'] = df['wu_rate']/df['pop']\n",
    "df = df[df['pop']>1000]\n",
    "mask = (df['pc']>20) & (df['pc']<500)\n",
    "df = df[mask]\n",
    "\n",
    "\n",
    "df = df.drop(columns_to_drop, axis=1)\n",
    "data = df.sample(frac=0.9, random_state=786)\n",
    "data_unseen = df.drop(data.index)\n",
    "\n",
    "data.reset_index(drop=True, inplace=True)\n",
    "data_unseen.reset_index(drop=True, inplace=True)\n",
    "\n",
    "print('Data for Modeling: ' + str(data.shape))\n",
    "print('Unseen Data For Predictions: ' + str(data_unseen.shape))\n",
    "\n",
    "exp0 = setup(data = data2, target = 'pc', train_size = 0.8,                   \n",
    "                   fold_shuffle= True, data_split_shuffle=True, session_id=123)\n",
    "xgb = create_model('xgboost', fold = 3)\n",
    "tuned_ada = tune_model(xgb)"
   ]
  },
  {
   "cell_type": "code",
   "execution_count": null,
   "id": "ea4a395b",
   "metadata": {},
   "outputs": [],
   "source": []
  },
  {
   "cell_type": "code",
   "execution_count": null,
   "id": "8ba92755",
   "metadata": {},
   "outputs": [],
   "source": [
    "tuned_ada = tune_model(xgb)"
   ]
  },
  {
   "cell_type": "code",
   "execution_count": null,
   "id": "c59000b1",
   "metadata": {
    "lines_to_next_cell": 2
   },
   "outputs": [],
   "source": [
    "columns_to_drop = ['population', 'sys_id', 'wu_rate']\n",
    "df = dataset.copy()\n",
    "\n",
    "df['pc'] = df['wu_rate']/df['pop']\n",
    "df = df[df['pop']>100]\n",
    "mask = (df['pc']>20) & (df['pc']<500)\n",
    "df = df[mask]\n",
    "\n",
    "\n",
    "df = df.drop(columns_to_drop, axis=1)\n",
    "features = list(df.columns)\n",
    "features.remove('pc')\n",
    "X =df[features]\n",
    "y = df['pc']"
   ]
  },
  {
   "cell_type": "code",
   "execution_count": null,
   "id": "55185197",
   "metadata": {
    "lines_to_next_cell": 2
   },
   "outputs": [],
   "source": [
    "columns_to_drop = ['population', 'sys_id', 'wu_rate']\n",
    "df = dataset.copy()\n",
    "\n",
    "df['pc'] = df['wu_rate']/df['pop']\n",
    "df = df[df['pop']>100]\n",
    "mask = (df['pc']>20) & (df['pc']<500)\n",
    "df = df[mask]\n",
    "\n",
    "\n",
    "df = df.drop(columns_to_drop, axis=1)\n",
    "features = list(df.columns)\n",
    "features.remove('pc')\n",
    "X =df[features]\n",
    "y = df['pc']"
   ]
  },
  {
   "cell_type": "code",
   "execution_count": null,
   "id": "5bea8f62",
   "metadata": {},
   "outputs": [],
   "source": [
    "from sklearn.decomposition import PCA\n",
    "pca = PCA(n_components=20, whiten = True)\n",
    "pca.fit(X)\n",
    "\n",
    "print(pca.explained_variance_ratio_)\n",
    "\n",
    "print(pca.singular_values_)\n",
    "X = pca.transform(X)"
   ]
  },
  {
   "cell_type": "code",
   "execution_count": null,
   "id": "fcb00fa3",
   "metadata": {},
   "outputs": [],
   "source": [
    "#squarederror\n",
    "X_train, X_test, y_train, y_test = train_test_split(X, y, test_size=0.2, random_state = 123)\n",
    "gb = xgb.XGBRegressor(objective='reg:\"squarederror\"', colsample_bytree=0.8, learning_rate=0.1,\n",
    "                              max_depth=7, alpha=0.01, n_estimators=500, rate_drop=0.9, skip_drop=0.5, subsample=0.8,\n",
    "                              seed = 123, reg_lambda=0.0)\n",
    "gb.fit(X_train, y_train)"
   ]
  },
  {
   "cell_type": "code",
   "execution_count": null,
   "id": "f505696e",
   "metadata": {},
   "outputs": [],
   "source": [
    "plt.figure()\n",
    "ypredict = gb.predict(X_test)\n",
    "accuracy = r2_score(y_test, ypredict)\n",
    "accuracy\n",
    "accuracy = int(accuracy*100)/100.0\n",
    "plt.scatter(y_test, ypredict, s = 4)\n",
    "plt.plot([min(y_test), max(y_test)], [min(y_test), max(y_test)], 'r')\n",
    "#plt.gca().set_yscale('log')\n",
    "#plt.gca().set_xscale('log')\n",
    "plt.title(\"$R^2 = ${}\".format(accuracy))\n",
    "plt.xlabel(\"Actual PC Water Use\")\n",
    "plt.ylabel(\"Estimated PC Water Use\")\n",
    "plt.grid()\n",
    "plt.show()"
   ]
  },
  {
   "cell_type": "markdown",
   "id": "1cbd9be4",
   "metadata": {},
   "source": [
    "## Quantile transformation of the target PC\n",
    "### Uniform Distribution"
   ]
  },
  {
   "cell_type": "code",
   "execution_count": null,
   "id": "07853b98",
   "metadata": {},
   "outputs": [],
   "source": [
    "import numpy as np\n",
    "import pandas as pd\n",
    "from sklearn.preprocessing import quantile_transform\n",
    "from scipy import stats\n",
    "x = pd.DataFrame(np.random.rand(100), columns = ['x'])\n",
    "stats.percentileofscore(x['x'], 0.47219 )"
   ]
  },
  {
   "cell_type": "code",
   "execution_count": null,
   "id": "c983be59",
   "metadata": {},
   "outputs": [],
   "source": []
  },
  {
   "cell_type": "code",
   "execution_count": null,
   "id": "b9a39cf8",
   "metadata": {
    "lines_to_next_cell": 2
   },
   "outputs": [],
   "source": [
    "from scipy import stats"
   ]
  },
  {
   "cell_type": "code",
   "execution_count": null,
   "id": "5de7a428",
   "metadata": {},
   "outputs": [],
   "source": [
    "# quantile transform\n",
    "# columns to drop\n",
    "columns_to_drop = ['population', 'sys_id', 'wu_rate']\n",
    "df = dataset.copy()\n",
    "\n",
    "df['pc'] = df['wu_rate']/df['pop']\n",
    "df = df[df['pop']>100]\n",
    "mask = (df['pc']>20) & (df['pc']<500)\n",
    "df = df[mask]\n",
    "pc_max = df['pc'].max()\n",
    "pc_min = df['pc'].min()\n",
    "\n",
    "df = df.drop(columns_to_drop, axis=1)\n",
    "wu = quantile_transform(df['pc'].values.reshape(len(df),1), n_quantiles=5000, \n",
    "                        random_state=0) #, output_distribution = 'normal'\n",
    "df['pc'] = wu.flatten()\n",
    "features = list(df.columns)\n",
    "features.remove('pc')\n",
    "X =df[features]\n",
    "y = df['pc']"
   ]
  },
  {
   "cell_type": "code",
   "execution_count": null,
   "id": "ff16c9f2",
   "metadata": {},
   "outputs": [],
   "source": []
  },
  {
   "cell_type": "code",
   "execution_count": null,
   "id": "dd7fe55f",
   "metadata": {},
   "outputs": [],
   "source": [
    "X_train, X_test, y_train, y_test = train_test_split(X, y, test_size=0.2, random_state = 123)"
   ]
  },
  {
   "cell_type": "code",
   "execution_count": null,
   "id": "32ae79ce",
   "metadata": {},
   "outputs": [],
   "source": [
    "#squarederror\n",
    "gb = xgb.XGBRegressor(objective='reg:squarederror', colsample_bytree=0.8, learning_rate=0.1,\n",
    "                              max_depth=7, alpha=0.01, n_estimators=500, rate_drop=0.9, skip_drop=0.5, subsample=0.8,\n",
    "                              seed = 123, reg_lambda=0.0)"
   ]
  },
  {
   "cell_type": "code",
   "execution_count": null,
   "id": "401a6619",
   "metadata": {},
   "outputs": [],
   "source": [
    "gb.fit(X_train, y_train)"
   ]
  },
  {
   "cell_type": "code",
   "execution_count": null,
   "id": "0359d9d8",
   "metadata": {},
   "outputs": [],
   "source": [
    "plt.figure()\n",
    "ypredict = gb.predict(X_test)\n",
    "accuracy = r2_score(y_test, ypredict)\n",
    "accuracy\n",
    "accuracy = int(accuracy*100)/100.0\n",
    "plt.scatter(y_test, ypredict, s = 4)\n",
    "plt.plot([min(y_test), max(y_test)], [min(y_test), max(y_test)], 'r')\n",
    "#plt.gca().set_yscale('log')\n",
    "#plt.gca().set_xscale('log')\n",
    "plt.title(\"$R^2 = ${}\".format(accuracy))\n",
    "plt.xlabel(\"Actual Water Use\")\n",
    "plt.ylabel(\"Estimated Water Use\")\n",
    "plt.grid()\n",
    "plt.show()"
   ]
  },
  {
   "cell_type": "markdown",
   "id": "b619bcec",
   "metadata": {},
   "source": []
  },
  {
   "cell_type": "code",
   "execution_count": null,
   "id": "df8fc191",
   "metadata": {},
   "outputs": [],
   "source": [
    "plt.figure()\n",
    "ypredict = gb.predict(X_test)\n",
    "ypredict = pc_min + ypredict*(pc_max-pc_min)\n",
    "y_test = pc_min + y_test*(pc_max-pc_min)\n",
    "accuracy = r2_score(y_test, ypredict)\n",
    "accuracy\n",
    "accuracy = int(accuracy*100)/100.0\n",
    "plt.scatter(y_test, ypredict, s = 4)\n",
    "plt.plot([min(y_test), max(y_test)], [min(y_test), max(y_test)], 'r')\n",
    "plt.title(\"$R^2 = ${}\".format(accuracy))\n",
    "plt.xlabel(\"Actual PC Water Use\")\n",
    "plt.ylabel(\"Estimated PC Water Use\")\n",
    "plt.grid()\n",
    "plt.show()"
   ]
  },
  {
   "cell_type": "markdown",
   "id": "871c0fbf",
   "metadata": {},
   "source": [
    "## Normal Distribution"
   ]
  },
  {
   "cell_type": "code",
   "execution_count": null,
   "id": "0c8279cf",
   "metadata": {},
   "outputs": [],
   "source": [
    "# quantile transform\n",
    "# columns to drop\n",
    "columns_to_drop = ['population', 'sys_id', 'wu_rate']\n",
    "df = dataset.copy()\n",
    "\n",
    "df['pc'] = df['wu_rate']/df['pop']\n",
    "df = df[df['pop']>100]\n",
    "mask = (df['pc']>20) & (df['pc']<500)\n",
    "df = df[mask]\n",
    "pc_mean = df['pc'].mean()\n",
    "pc_std= df['pc'].std()\n",
    "\n",
    "df = df.drop(columns_to_drop, axis=1)\n",
    "wu = quantile_transform(df['pc'].values.reshape(len(df),1), n_quantiles=5000, \n",
    "                        random_state=0, output_distribution = 'normal') #, output_distribution = 'normal'\n",
    "df['pc'] = wu.flatten()\n",
    "features = list(df.columns)\n",
    "features.remove('pc')\n",
    "X =df[features]\n",
    "y = df['pc']"
   ]
  },
  {
   "cell_type": "code",
   "execution_count": null,
   "id": "7c42c370",
   "metadata": {
    "lines_to_next_cell": 2
   },
   "outputs": [],
   "source": [
    "X_train, X_test, y_train, y_test = train_test_split(X, y, test_size=0.2, random_state = 123)"
   ]
  },
  {
   "cell_type": "code",
   "execution_count": null,
   "id": "cb16582e",
   "metadata": {},
   "outputs": [],
   "source": [
    "gb = xgb.XGBRegressor(objective='reg:squarederror', colsample_bytree=0.8, learning_rate=0.1,\n",
    "                              max_depth=7, alpha=0.01, n_estimators=500, rate_drop=0.9, skip_drop=0.5, subsample=0.8,\n",
    "                              seed = 123, reg_lambda=0.0)"
   ]
  },
  {
   "cell_type": "code",
   "execution_count": null,
   "id": "dcccf413",
   "metadata": {},
   "outputs": [],
   "source": [
    "gb.fit(X_train, y_train)"
   ]
  },
  {
   "cell_type": "code",
   "execution_count": null,
   "id": "59eb09b9",
   "metadata": {},
   "outputs": [],
   "source": [
    "plt.figure()\n",
    "ypredict = gb.predict(X_test)\n",
    "accuracy = r2_score(y_test, ypredict)\n",
    "accuracy\n",
    "accuracy = int(accuracy*100)/100.0\n",
    "plt.scatter(y_test, ypredict, s = 4)\n",
    "plt.plot([min(y_test), max(y_test)], [min(y_test), max(y_test)], 'r')\n",
    "#plt.gca().set_yscale('log')\n",
    "#plt.gca().set_xscale('log')\n",
    "plt.title(\"$R^2 = ${}\".format(accuracy))\n",
    "plt.xlabel(\"Actual PC Water Use\")\n",
    "plt.ylabel(\"Estimated PC Water Use\")\n",
    "plt.grid()\n",
    "plt.show()"
   ]
  },
  {
   "cell_type": "code",
   "execution_count": null,
   "id": "b6067bfa",
   "metadata": {},
   "outputs": [],
   "source": [
    "pc_std"
   ]
  },
  {
   "cell_type": "code",
   "execution_count": null,
   "id": "790ef756",
   "metadata": {},
   "outputs": [],
   "source": [
    "plt.figure()\n",
    "ypredict = gb.predict(X_test)\n",
    "\n",
    "ypredict= 180+pc_mean + pc_std * ypredict\n",
    "y_test = 180+pc_mean + pc_std * y_test\n",
    "accuracy = r2_score(y_test, ypredict)\n",
    "\n",
    "accuracy = int(accuracy*100)/100.0\n",
    "plt.scatter(y_test, ypredict, s = 4)\n",
    "plt.plot([min(y_test), max(y_test)], [min(y_test), max(y_test)], 'r')\n",
    "\n",
    "plt.title(\"$R^2 = ${}\".format(accuracy))\n",
    "plt.xlabel(\"Actual PC Water Use\")\n",
    "plt.ylabel(\"Estimated PC Water Use\")\n",
    "plt.grid()\n",
    "plt.show()"
   ]
  },
  {
   "cell_type": "code",
   "execution_count": null,
   "id": "94338d92",
   "metadata": {},
   "outputs": [],
   "source": []
  },
  {
   "cell_type": "code",
   "execution_count": null,
   "id": "ff82965e",
   "metadata": {},
   "outputs": [],
   "source": []
  },
  {
   "cell_type": "code",
   "execution_count": null,
   "id": "31f40c2f",
   "metadata": {},
   "outputs": [],
   "source": []
  },
  {
   "cell_type": "code",
   "execution_count": null,
   "id": "fe1bf3f0",
   "metadata": {},
   "outputs": [],
   "source": []
  }
 ],
 "metadata": {
  "hide_input": false,
  "jupytext": {
   "encoding": "# -*- coding: utf-8 -*-",
   "formats": "ipynb,py:percent"
  },
  "kernelspec": {
   "display_name": "Python 3 (ipykernel)",
   "language": "python",
   "name": "python3"
  },
  "language_info": {
   "codemirror_mode": {
    "name": "ipython",
    "version": 3
   },
   "file_extension": ".py",
   "mimetype": "text/x-python",
   "name": "python",
   "nbconvert_exporter": "python",
   "pygments_lexer": "ipython3",
   "version": "3.9.7"
  },
  "toc": {
   "base_numbering": 1,
   "nav_menu": {},
   "number_sections": true,
   "sideBar": true,
   "skip_h1_title": false,
   "title_cell": "Table of Contents",
   "title_sidebar": "Contents",
   "toc_cell": false,
   "toc_position": {},
   "toc_section_display": true,
   "toc_window_display": false
  }
 },
 "nbformat": 4,
 "nbformat_minor": 5
}
