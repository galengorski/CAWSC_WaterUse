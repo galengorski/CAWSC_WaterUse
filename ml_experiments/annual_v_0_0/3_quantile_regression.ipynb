{
 "cells": [
  {
   "cell_type": "markdown",
   "id": "def4f810",
   "metadata": {},
   "source": [
    "# Annual Water Use "
   ]
  },
  {
   "cell_type": "code",
   "execution_count": 1,
   "id": "6225725d",
   "metadata": {},
   "outputs": [
    {
     "ename": "ImportError",
     "evalue": "Numba needs NumPy 1.20 or less",
     "output_type": "error",
     "traceback": [
      "\u001b[1;31m---------------------------------------------------------------------------\u001b[0m",
      "\u001b[1;31mImportError\u001b[0m                               Traceback (most recent call last)",
      "\u001b[1;32mC:\\Users\\AALZRA~1\\AppData\\Local\\Temp\\2/ipykernel_19660/320541721.py\u001b[0m in \u001b[0;36m<module>\u001b[1;34m\u001b[0m\n\u001b[0;32m      1\u001b[0m \u001b[1;32mimport\u001b[0m \u001b[0mos\u001b[0m\u001b[1;33m,\u001b[0m \u001b[0msys\u001b[0m\u001b[1;33m\u001b[0m\u001b[1;33m\u001b[0m\u001b[0m\n\u001b[0;32m      2\u001b[0m \u001b[1;32mimport\u001b[0m \u001b[0mpandas\u001b[0m \u001b[1;32mas\u001b[0m \u001b[0mpd\u001b[0m\u001b[1;33m\u001b[0m\u001b[1;33m\u001b[0m\u001b[0m\n\u001b[1;32m----> 3\u001b[1;33m \u001b[1;32mfrom\u001b[0m \u001b[0mpycaret\u001b[0m\u001b[1;33m.\u001b[0m\u001b[0mregression\u001b[0m \u001b[1;32mimport\u001b[0m \u001b[1;33m*\u001b[0m\u001b[1;33m\u001b[0m\u001b[1;33m\u001b[0m\u001b[0m\n\u001b[0m\u001b[0;32m      4\u001b[0m \u001b[0msys\u001b[0m\u001b[1;33m.\u001b[0m\u001b[0mpath\u001b[0m\u001b[1;33m.\u001b[0m\u001b[0mappend\u001b[0m\u001b[1;33m(\u001b[0m\u001b[1;34mr\"C:\\work\\water_use\\CAWSC_WaterUse\\WUtrainer\"\u001b[0m\u001b[1;33m)\u001b[0m\u001b[1;33m\u001b[0m\u001b[1;33m\u001b[0m\u001b[0m\n\u001b[0;32m      5\u001b[0m \u001b[1;32mfrom\u001b[0m \u001b[0mfeaturize\u001b[0m \u001b[1;32mimport\u001b[0m \u001b[0mMultiOneHotEncoder\u001b[0m\u001b[1;33m\u001b[0m\u001b[1;33m\u001b[0m\u001b[0m\n",
      "\u001b[1;32mc:\\work\\codes\\pycaret\\pycaret\\regression.py\u001b[0m in \u001b[0;36m<module>\u001b[1;34m\u001b[0m\n\u001b[0;32m      8\u001b[0m \u001b[1;32mimport\u001b[0m \u001b[0mnumpy\u001b[0m \u001b[1;32mas\u001b[0m \u001b[0mnp\u001b[0m\u001b[1;33m\u001b[0m\u001b[1;33m\u001b[0m\u001b[0m\n\u001b[0;32m      9\u001b[0m \u001b[1;33m\u001b[0m\u001b[0m\n\u001b[1;32m---> 10\u001b[1;33m \u001b[1;32mimport\u001b[0m \u001b[0mpycaret\u001b[0m\u001b[1;33m.\u001b[0m\u001b[0minternal\u001b[0m\u001b[1;33m.\u001b[0m\u001b[0mtabular\u001b[0m\u001b[1;33m\u001b[0m\u001b[1;33m\u001b[0m\u001b[0m\n\u001b[0m\u001b[0;32m     11\u001b[0m \u001b[1;32mfrom\u001b[0m \u001b[0mpycaret\u001b[0m\u001b[1;33m.\u001b[0m\u001b[0minternal\u001b[0m\u001b[1;33m.\u001b[0m\u001b[0mDisplay\u001b[0m \u001b[1;32mimport\u001b[0m \u001b[0mDisplay\u001b[0m\u001b[1;33m,\u001b[0m \u001b[0mis_in_colab\u001b[0m\u001b[1;33m,\u001b[0m \u001b[0menable_colab\u001b[0m\u001b[1;33m\u001b[0m\u001b[1;33m\u001b[0m\u001b[0m\n\u001b[0;32m     12\u001b[0m \u001b[1;32mfrom\u001b[0m \u001b[0mtyping\u001b[0m \u001b[1;32mimport\u001b[0m \u001b[0mList\u001b[0m\u001b[1;33m,\u001b[0m \u001b[0mTuple\u001b[0m\u001b[1;33m,\u001b[0m \u001b[0mAny\u001b[0m\u001b[1;33m,\u001b[0m \u001b[0mUnion\u001b[0m\u001b[1;33m,\u001b[0m \u001b[0mOptional\u001b[0m\u001b[1;33m,\u001b[0m \u001b[0mDict\u001b[0m\u001b[1;33m\u001b[0m\u001b[1;33m\u001b[0m\u001b[0m\n",
      "\u001b[1;32mc:\\work\\codes\\pycaret\\pycaret\\internal\\tabular.py\u001b[0m in \u001b[0;36m<module>\u001b[1;34m\u001b[0m\n\u001b[0;32m     50\u001b[0m \u001b[1;32mimport\u001b[0m \u001b[0mpycaret\u001b[0m\u001b[1;33m.\u001b[0m\u001b[0mcontainers\u001b[0m\u001b[1;33m.\u001b[0m\u001b[0mmodels\u001b[0m\u001b[1;33m.\u001b[0m\u001b[0mclustering\u001b[0m\u001b[1;33m\u001b[0m\u001b[1;33m\u001b[0m\u001b[0m\n\u001b[0;32m     51\u001b[0m \u001b[1;32mimport\u001b[0m \u001b[0mpycaret\u001b[0m\u001b[1;33m.\u001b[0m\u001b[0mcontainers\u001b[0m\u001b[1;33m.\u001b[0m\u001b[0mmodels\u001b[0m\u001b[1;33m.\u001b[0m\u001b[0manomaly\u001b[0m\u001b[1;33m\u001b[0m\u001b[1;33m\u001b[0m\u001b[0m\n\u001b[1;32m---> 52\u001b[1;33m \u001b[1;32mimport\u001b[0m \u001b[0mpycaret\u001b[0m\u001b[1;33m.\u001b[0m\u001b[0minternal\u001b[0m\u001b[1;33m.\u001b[0m\u001b[0mpreprocess\u001b[0m\u001b[1;33m\u001b[0m\u001b[1;33m\u001b[0m\u001b[0m\n\u001b[0m\u001b[0;32m     53\u001b[0m \u001b[1;32mimport\u001b[0m \u001b[0mpandas\u001b[0m \u001b[1;32mas\u001b[0m \u001b[0mpd\u001b[0m\u001b[1;33m\u001b[0m\u001b[1;33m\u001b[0m\u001b[0m\n\u001b[0;32m     54\u001b[0m \u001b[1;32mimport\u001b[0m \u001b[0mnumpy\u001b[0m \u001b[1;32mas\u001b[0m \u001b[0mnp\u001b[0m\u001b[1;33m\u001b[0m\u001b[1;33m\u001b[0m\u001b[0m\n",
      "\u001b[1;32mc:\\work\\codes\\pycaret\\pycaret\\internal\\preprocess.py\u001b[0m in \u001b[0;36m<module>\u001b[1;34m\u001b[0m\n\u001b[0;32m     25\u001b[0m \u001b[1;32mfrom\u001b[0m \u001b[0msklearn\u001b[0m\u001b[1;33m.\u001b[0m\u001b[0mdecomposition\u001b[0m \u001b[1;32mimport\u001b[0m \u001b[0mIncrementalPCA\u001b[0m\u001b[1;33m\u001b[0m\u001b[1;33m\u001b[0m\u001b[0m\n\u001b[0;32m     26\u001b[0m \u001b[1;32mfrom\u001b[0m \u001b[0msklearn\u001b[0m\u001b[1;33m.\u001b[0m\u001b[0mpreprocessing\u001b[0m \u001b[1;32mimport\u001b[0m \u001b[0mKBinsDiscretizer\u001b[0m\u001b[1;33m\u001b[0m\u001b[1;33m\u001b[0m\u001b[0m\n\u001b[1;32m---> 27\u001b[1;33m \u001b[1;32mfrom\u001b[0m \u001b[0mpyod\u001b[0m\u001b[1;33m.\u001b[0m\u001b[0mmodels\u001b[0m\u001b[1;33m.\u001b[0m\u001b[0mknn\u001b[0m \u001b[1;32mimport\u001b[0m \u001b[0mKNN\u001b[0m\u001b[1;33m\u001b[0m\u001b[1;33m\u001b[0m\u001b[0m\n\u001b[0m\u001b[0;32m     28\u001b[0m \u001b[1;32mfrom\u001b[0m \u001b[0mpyod\u001b[0m\u001b[1;33m.\u001b[0m\u001b[0mmodels\u001b[0m\u001b[1;33m.\u001b[0m\u001b[0miforest\u001b[0m \u001b[1;32mimport\u001b[0m \u001b[0mIForest\u001b[0m\u001b[1;33m\u001b[0m\u001b[1;33m\u001b[0m\u001b[0m\n\u001b[0;32m     29\u001b[0m \u001b[1;32mfrom\u001b[0m \u001b[0mpyod\u001b[0m\u001b[1;33m.\u001b[0m\u001b[0mmodels\u001b[0m\u001b[1;33m.\u001b[0m\u001b[0mpca\u001b[0m \u001b[1;32mimport\u001b[0m \u001b[0mPCA\u001b[0m \u001b[1;32mas\u001b[0m \u001b[0mPCA_od\u001b[0m\u001b[1;33m\u001b[0m\u001b[1;33m\u001b[0m\u001b[0m\n",
      "\u001b[1;32mC:\\Miniconda3\\envs\\py39\\lib\\site-packages\\pyod\\__init__.py\u001b[0m in \u001b[0;36m<module>\u001b[1;34m\u001b[0m\n\u001b[0;32m      2\u001b[0m \u001b[1;33m\u001b[0m\u001b[0m\n\u001b[0;32m      3\u001b[0m \u001b[1;32mfrom\u001b[0m \u001b[1;33m.\u001b[0m \u001b[1;32mimport\u001b[0m \u001b[0mmodels\u001b[0m\u001b[1;33m\u001b[0m\u001b[1;33m\u001b[0m\u001b[0m\n\u001b[1;32m----> 4\u001b[1;33m \u001b[1;32mfrom\u001b[0m \u001b[1;33m.\u001b[0m \u001b[1;32mimport\u001b[0m \u001b[0mutils\u001b[0m\u001b[1;33m\u001b[0m\u001b[1;33m\u001b[0m\u001b[0m\n\u001b[0m\u001b[0;32m      5\u001b[0m \u001b[1;31m# TODO: add version information here\u001b[0m\u001b[1;33m\u001b[0m\u001b[1;33m\u001b[0m\u001b[0m\n\u001b[0;32m      6\u001b[0m \u001b[1;33m\u001b[0m\u001b[0m\n",
      "\u001b[1;32mC:\\Miniconda3\\envs\\py39\\lib\\site-packages\\pyod\\utils\\__init__.py\u001b[0m in \u001b[0;36m<module>\u001b[1;34m\u001b[0m\n\u001b[0;32m     10\u001b[0m \u001b[1;32mfrom\u001b[0m \u001b[1;33m.\u001b[0m\u001b[0mdata\u001b[0m \u001b[1;32mimport\u001b[0m \u001b[0mgenerate_data\u001b[0m\u001b[1;33m\u001b[0m\u001b[1;33m\u001b[0m\u001b[0m\n\u001b[0;32m     11\u001b[0m \u001b[1;32mfrom\u001b[0m \u001b[1;33m.\u001b[0m\u001b[0mdata\u001b[0m \u001b[1;32mimport\u001b[0m \u001b[0mevaluate_print\u001b[0m\u001b[1;33m\u001b[0m\u001b[1;33m\u001b[0m\u001b[0m\n\u001b[1;32m---> 12\u001b[1;33m \u001b[1;32mfrom\u001b[0m \u001b[1;33m.\u001b[0m\u001b[0mstat_models\u001b[0m \u001b[1;32mimport\u001b[0m \u001b[0mpairwise_distances_no_broadcast\u001b[0m\u001b[1;33m\u001b[0m\u001b[1;33m\u001b[0m\u001b[0m\n\u001b[0m\u001b[0;32m     13\u001b[0m \u001b[1;32mfrom\u001b[0m \u001b[1;33m.\u001b[0m\u001b[0mstat_models\u001b[0m \u001b[1;32mimport\u001b[0m \u001b[0mwpearsonr\u001b[0m\u001b[1;33m\u001b[0m\u001b[1;33m\u001b[0m\u001b[0m\n\u001b[0;32m     14\u001b[0m \u001b[1;32mfrom\u001b[0m \u001b[1;33m.\u001b[0m\u001b[0mstat_models\u001b[0m \u001b[1;32mimport\u001b[0m \u001b[0mpearsonr_mat\u001b[0m\u001b[1;33m\u001b[0m\u001b[1;33m\u001b[0m\u001b[0m\n",
      "\u001b[1;32mC:\\Miniconda3\\envs\\py39\\lib\\site-packages\\pyod\\utils\\stat_models.py\u001b[0m in \u001b[0;36m<module>\u001b[1;34m\u001b[0m\n\u001b[0;32m      9\u001b[0m \u001b[1;33m\u001b[0m\u001b[0m\n\u001b[0;32m     10\u001b[0m \u001b[1;32mimport\u001b[0m \u001b[0mnumpy\u001b[0m \u001b[1;32mas\u001b[0m \u001b[0mnp\u001b[0m\u001b[1;33m\u001b[0m\u001b[1;33m\u001b[0m\u001b[0m\n\u001b[1;32m---> 11\u001b[1;33m \u001b[1;32mfrom\u001b[0m \u001b[0mnumba\u001b[0m \u001b[1;32mimport\u001b[0m \u001b[0mnjit\u001b[0m\u001b[1;33m\u001b[0m\u001b[1;33m\u001b[0m\u001b[0m\n\u001b[0m\u001b[0;32m     12\u001b[0m \u001b[1;32mfrom\u001b[0m \u001b[0mscipy\u001b[0m\u001b[1;33m.\u001b[0m\u001b[0mstats\u001b[0m \u001b[1;32mimport\u001b[0m \u001b[0mpearsonr\u001b[0m\u001b[1;33m\u001b[0m\u001b[1;33m\u001b[0m\u001b[0m\n\u001b[0;32m     13\u001b[0m \u001b[1;32mfrom\u001b[0m \u001b[0msklearn\u001b[0m\u001b[1;33m.\u001b[0m\u001b[0mutils\u001b[0m\u001b[1;33m.\u001b[0m\u001b[0mvalidation\u001b[0m \u001b[1;32mimport\u001b[0m \u001b[0mcheck_array\u001b[0m\u001b[1;33m\u001b[0m\u001b[1;33m\u001b[0m\u001b[0m\n",
      "\u001b[1;32mC:\\Miniconda3\\envs\\py39\\lib\\site-packages\\numba\\__init__.py\u001b[0m in \u001b[0;36m<module>\u001b[1;34m\u001b[0m\n\u001b[0;32m    196\u001b[0m \u001b[1;33m\u001b[0m\u001b[0m\n\u001b[0;32m    197\u001b[0m \u001b[0m_ensure_llvm\u001b[0m\u001b[1;33m(\u001b[0m\u001b[1;33m)\u001b[0m\u001b[1;33m\u001b[0m\u001b[1;33m\u001b[0m\u001b[0m\n\u001b[1;32m--> 198\u001b[1;33m \u001b[0m_ensure_critical_deps\u001b[0m\u001b[1;33m(\u001b[0m\u001b[1;33m)\u001b[0m\u001b[1;33m\u001b[0m\u001b[1;33m\u001b[0m\u001b[0m\n\u001b[0m\u001b[0;32m    199\u001b[0m \u001b[1;33m\u001b[0m\u001b[0m\n\u001b[0;32m    200\u001b[0m \u001b[1;31m# we know llvmlite is working as the above tests passed, import it now as SVML\u001b[0m\u001b[1;33m\u001b[0m\u001b[1;33m\u001b[0m\u001b[0m\n",
      "\u001b[1;32mC:\\Miniconda3\\envs\\py39\\lib\\site-packages\\numba\\__init__.py\u001b[0m in \u001b[0;36m_ensure_critical_deps\u001b[1;34m()\u001b[0m\n\u001b[0;32m    136\u001b[0m         \u001b[1;32mraise\u001b[0m \u001b[0mImportError\u001b[0m\u001b[1;33m(\u001b[0m\u001b[1;34m\"Numba needs NumPy 1.17 or greater\"\u001b[0m\u001b[1;33m)\u001b[0m\u001b[1;33m\u001b[0m\u001b[1;33m\u001b[0m\u001b[0m\n\u001b[0;32m    137\u001b[0m     \u001b[1;32melif\u001b[0m \u001b[0mnumpy_version\u001b[0m \u001b[1;33m>\u001b[0m \u001b[1;33m(\u001b[0m\u001b[1;36m1\u001b[0m\u001b[1;33m,\u001b[0m \u001b[1;36m20\u001b[0m\u001b[1;33m)\u001b[0m\u001b[1;33m:\u001b[0m\u001b[1;33m\u001b[0m\u001b[1;33m\u001b[0m\u001b[0m\n\u001b[1;32m--> 138\u001b[1;33m         \u001b[1;32mraise\u001b[0m \u001b[0mImportError\u001b[0m\u001b[1;33m(\u001b[0m\u001b[1;34m\"Numba needs NumPy 1.20 or less\"\u001b[0m\u001b[1;33m)\u001b[0m\u001b[1;33m\u001b[0m\u001b[1;33m\u001b[0m\u001b[0m\n\u001b[0m\u001b[0;32m    139\u001b[0m \u001b[1;33m\u001b[0m\u001b[0m\n\u001b[0;32m    140\u001b[0m     \u001b[1;32mtry\u001b[0m\u001b[1;33m:\u001b[0m\u001b[1;33m\u001b[0m\u001b[1;33m\u001b[0m\u001b[0m\n",
      "\u001b[1;31mImportError\u001b[0m: Numba needs NumPy 1.20 or less"
     ]
    }
   ],
   "source": [
    "import os, sys\n",
    "import pandas as pd\n",
    "from pycaret.regression import *\n",
    "sys.path.append(r\"C:\\work\\water_use\\CAWSC_WaterUse\\WUtrainer\")\n",
    "from featurize import MultiOneHotEncoder\n",
    "import matplotlib.pyplot as plt\n",
    "from xgboost import plot_importance\n",
    "import xgboost as xgb\n",
    "\n",
    "#\n",
    "import numpy as np\n",
    "\n",
    "# sklearn\n",
    "from sklearn.model_selection import train_test_split\n",
    "from sklearn.metrics import r2_score"
   ]
  },
  {
   "cell_type": "code",
   "execution_count": null,
   "id": "4bccff5e",
   "metadata": {},
   "outputs": [],
   "source": [
    "from sklearn.compose import ColumnTransformer\n",
    "from sklearn.datasets import fetch_openml\n",
    "from sklearn.pipeline import Pipeline\n",
    "from sklearn.impute import SimpleImputer\n",
    "from sklearn.preprocessing import StandardScaler, OneHotEncoder\n",
    "from sklearn.linear_model import LogisticRegression\n",
    "from sklearn.model_selection import train_test_split, GridSearchCV"
   ]
  },
  {
   "cell_type": "code",
   "execution_count": null,
   "id": "28e67d1c",
   "metadata": {},
   "outputs": [],
   "source": [
    "%matplotlib widget\n",
    "%matplotlib inline\n",
    "%matplotlib ipympl\n",
    "import warnings\n",
    "\n",
    "warnings.filterwarnings('ignore')\n",
    "xgb.set_config(verbosity=0)"
   ]
  },
  {
   "cell_type": "code",
   "execution_count": null,
   "id": "a996df7b",
   "metadata": {},
   "outputs": [],
   "source": [
    "dataset = pd.read_csv(r\"C:\\work\\water_use\\ml_experiments\\annual_v_0_0\\clean_train_db.csv\")\n",
    "pop_info = pd.read_csv(r\"pop_info.csv\")\n",
    "pc_50_swud = pd.read_csv(r\"C:\\work\\water_use\\mldataset\\ml\\training\\misc_features\\spatial_features\\pc_50_pop_swud15.csv\")\n",
    "pc_50_plc = pd.read_csv(r\"C:\\work\\water_use\\mldataset\\ml\\training\\misc_features\\spatial_features\\pc_50_plc_pop_interpolated.csv\")\n"
   ]
  },
  {
   "cell_type": "code",
   "execution_count": null,
   "id": "4a51d990",
   "metadata": {},
   "outputs": [],
   "source": [
    "df_ = pc_50_swud[['sys_id', 'pc_median' ]]\n",
    "dataset = dataset.merge(df_, right_on=['sys_id'], left_on=['sys_id'] , how = 'left')\n",
    "del(df_)\n"
   ]
  },
  {
   "cell_type": "code",
   "execution_count": null,
   "id": "071b9936",
   "metadata": {},
   "outputs": [],
   "source": [
    "pop_info"
   ]
  },
  {
   "cell_type": "code",
   "execution_count": null,
   "id": "2a5402ec",
   "metadata": {},
   "outputs": [],
   "source": [
    "pop_info['pop'] = pop_info['pop_swud16'].copy()\n",
    "mask = pop_info['pop'].isna() | pop_info['pop']==0\n",
    "pop_info.loc[mask, 'pop'] = pop_info[mask]['plc_pop_interpolated']\n",
    "mask = pop_info['pop'].isna() | pop_info['pop']==0\n",
    "pop_info.loc[mask, 'pop'] = pop_info[mask]['TPOPSRV']\n",
    "mask = pop_info['pop'].isna() | pop_info['pop']==0\n",
    "pop_info.loc[mask, 'pop'] = pop_info[mask]['tract_pop']\n",
    "\n",
    "\n",
    "#dataset = dataset[dataset['Ecode_num']==0]\n",
    "\n",
    "pop_df = pop_info[['sys_id', 'pop', 'Year']]\n",
    "dataset = dataset.merge(pop_df, right_on=['sys_id', 'Year'], left_on=['sys_id', 'Year'] , how = 'left')"
   ]
  },
  {
   "cell_type": "code",
   "execution_count": null,
   "id": "b8d86d0c",
   "metadata": {},
   "outputs": [],
   "source": [
    "dataset"
   ]
  },
  {
   "cell_type": "code",
   "execution_count": null,
   "id": "16fc23a4",
   "metadata": {},
   "outputs": [],
   "source": [
    "drop_before_preprocess = ['sys_id']\n",
    "categorical_features = ['HUC2', 'state_id',  'KG_climate_zone' ] #, 'county_id'\n",
    "ohc1 = MultiOneHotEncoder(catfeatures = categorical_features )\n",
    "dataset = ohc1.transform(dataset)"
   ]
  },
  {
   "cell_type": "code",
   "execution_count": null,
   "id": "19d6d27f",
   "metadata": {},
   "outputs": [],
   "source": [
    "dataset"
   ]
  },
  {
   "cell_type": "code",
   "execution_count": null,
   "id": "8b662aed",
   "metadata": {},
   "outputs": [],
   "source": [
    "for i in dataset.columns:\n",
    "    print(i)"
   ]
  },
  {
   "cell_type": "markdown",
   "id": "e1fdc093",
   "metadata": {},
   "source": [
    "# Estimating Water Use without Log transformation"
   ]
  },
  {
   "cell_type": "code",
   "execution_count": null,
   "id": "d2a53e65",
   "metadata": {},
   "outputs": [],
   "source": [
    "# pop_df = pop_info[['sys_id', 'pop', 'Year']]\n",
    "# dataset = dataset.merge(pop_df, right_on=['sys_id', 'Year'], left_on=['sys_id', 'Year'] , how = 'left')\n"
   ]
  },
  {
   "cell_type": "code",
   "execution_count": null,
   "id": "17ae4ca3",
   "metadata": {},
   "outputs": [],
   "source": [
    "# columns to drop\n",
    "columns_to_drop = ['population', 'sys_id', 'pc']\n",
    "df = dataset.copy()\n",
    "df['pc'] = df['wu_rate']/df['pop']\n",
    "df = df[df['pop']>100]\n",
    "mask = (df['pc']>20) & (df['pc']<500)\n",
    "df = df[mask]\n",
    "\n",
    "df = df.drop(columns_to_drop, axis=1)\n",
    "features = list(df.columns)\n",
    "features.remove('wu_rate')\n",
    "X =df[features]\n",
    "y = df['wu_rate']"
   ]
  },
  {
   "cell_type": "code",
   "execution_count": null,
   "id": "c887a75b",
   "metadata": {},
   "outputs": [],
   "source": [
    "df"
   ]
  },
  {
   "cell_type": "code",
   "execution_count": null,
   "id": "bf64606e",
   "metadata": {},
   "outputs": [],
   "source": [
    "X_train, X_test, y_train, y_test = train_test_split(X, y, test_size=0.3, random_state = 123)"
   ]
  },
  {
   "cell_type": "code",
   "execution_count": null,
   "id": "d46d97de",
   "metadata": {},
   "outputs": [],
   "source": [
    "#squaredlogerror\n",
    "#squarederror\n",
    "gb = xgb.XGBRegressor(objective='reg:squarederror', colsample_bytree=0.8, learning_rate=0.1,\n",
    "                              max_depth=7, alpha=0.01, n_estimators=500, rate_drop=0.9, skip_drop=0.5, subsample=0.8,\n",
    "                              seed = 123, reg_lambda=0.0)"
   ]
  },
  {
   "cell_type": "code",
   "execution_count": null,
   "id": "c211d875",
   "metadata": {
    "scrolled": true
   },
   "outputs": [],
   "source": [
    "gb.fit(X_train, y_train)"
   ]
  },
  {
   "cell_type": "code",
   "execution_count": null,
   "id": "64b217af",
   "metadata": {},
   "outputs": [],
   "source": [
    "ypredict = gb.predict(X_test)\n",
    "accuracy = r2_score(y_test, ypredict)"
   ]
  },
  {
   "cell_type": "code",
   "execution_count": null,
   "id": "3e59495c",
   "metadata": {},
   "outputs": [],
   "source": [
    "plt.figure()\n",
    "accuracy = int(accuracy*100)/100.0\n",
    "plt.scatter(y_test, ypredict, s = 4)\n",
    "plt.plot([min(y_test), max(y_test)], [min(y_test), max(y_test)], 'r')\n",
    "plt.gca().set_yscale('log')\n",
    "plt.gca().set_xscale('log')\n",
    "plt.title(\"$R^2 = ${}\".format(accuracy))\n",
    "plt.xlabel(\"Actual Water Use\")\n",
    "plt.ylabel(\"Estimated Water Use\")\n",
    "plt.grid()\n",
    "plt.show()"
   ]
  },
  {
   "cell_type": "markdown",
   "id": "428f0e5e",
   "metadata": {},
   "source": [
    "## Log water use & population "
   ]
  },
  {
   "cell_type": "code",
   "execution_count": null,
   "id": "8e382c02",
   "metadata": {},
   "outputs": [],
   "source": [
    "# columns to drop\n",
    "columns_to_drop = ['population', 'sys_id', 'pc']\n",
    "df = dataset.copy()\n",
    "df = df[df['wu_rate']>100]\n",
    "df['pc'] = df['wu_rate']/df['pop']\n",
    "df = df[df['pop']>100]\n",
    "\n",
    "# mask = (df['pc']>20) & (df['pc']<500)\n",
    "# df = df[mask]\n",
    "df = df[df['pc']<df['pc'].quantile(0.98)]\n",
    "df = df[df['pc']>df['pc'].quantile(0.05)]\n",
    "\n",
    "df = df.drop(columns_to_drop, axis=1)\n",
    "df['pop'] = np.log10(df['pop'])\n",
    "df['wu_rate'] = np.log10(df['wu_rate'])\n",
    "features = list(df.columns)\n",
    "features.remove('wu_rate')\n",
    "\n",
    "\n",
    "X =df[features]\n",
    "y = df['wu_rate']"
   ]
  },
  {
   "cell_type": "code",
   "execution_count": null,
   "id": "a9c4f369",
   "metadata": {},
   "outputs": [],
   "source": [
    "X"
   ]
  },
  {
   "cell_type": "code",
   "execution_count": null,
   "id": "da9b5693",
   "metadata": {},
   "outputs": [],
   "source": [
    "X_train, X_test, y_train, y_test = train_test_split(X, y, test_size=0.2, random_state = 123)"
   ]
  },
  {
   "cell_type": "code",
   "execution_count": null,
   "id": "f0c2f5f7",
   "metadata": {},
   "outputs": [],
   "source": [
    "gb = xgb.XGBRegressor(objective='reg:squarederror', colsample_bytree=0.8, learning_rate=0.01,\n",
    "                              max_depth=7, alpha=0.01, n_estimators=500, rate_drop=0.9, skip_drop=0.5, subsample=0.8,\n",
    "                              seed = 123, reg_lambda=0.0)"
   ]
  },
  {
   "cell_type": "code",
   "execution_count": null,
   "id": "e5f2658e",
   "metadata": {},
   "outputs": [],
   "source": [
    "gb.fit(X_train, y_train)"
   ]
  },
  {
   "cell_type": "code",
   "execution_count": null,
   "id": "55ed6534",
   "metadata": {},
   "outputs": [],
   "source": [
    "ypredict = gb.predict(X_test)\n",
    "accuracy = r2_score(y_test, ypredict)\n",
    "accuracy"
   ]
  },
  {
   "cell_type": "code",
   "execution_count": null,
   "id": "b6dd0724",
   "metadata": {},
   "outputs": [],
   "source": [
    "plt.figure()\n",
    "accuracy = int(accuracy*100)/100.0\n",
    "plt.scatter(10**y_test, 10**ypredict, s = 4)\n",
    "plt.plot([min(10**y_test), max(10**y_test)], [min(10**y_test), max(10**y_test)], 'r')\n",
    "plt.gca().set_yscale('log')\n",
    "plt.gca().set_xscale('log')\n",
    "plt.title(\"$R^2 = ${}\".format(accuracy))\n",
    "plt.xlabel(\"Actual Water Use\")\n",
    "plt.ylabel(\"Estimated Water Use\")\n",
    "plt.grid()\n",
    "plt.show()"
   ]
  },
  {
   "cell_type": "code",
   "execution_count": null,
   "id": "736b5f97",
   "metadata": {},
   "outputs": [],
   "source": [
    "plt.figure()\n",
    "pc_test = (10**y_test)/(10**X_test['pop'])\n",
    "pc_predict =  (10**ypredict)/(10**X_test['pop'])\n",
    "accuracy = r2_score(pc_test, pc_predict )\n",
    "plt.scatter(pc_test, pc_predict, s = 4)\n",
    "\n",
    "plt.plot([min(pc_test), max(pc_test)], [min(pc_test), max(pc_test)], 'r')\n",
    "#plt.gca().set_yscale('log')\n",
    "#plt.gca().set_xscale('log')\n",
    "plt.title(\"$R^2 = ${}\".format(accuracy))\n",
    "plt.xlabel(\"Actual Water Use\")\n",
    "plt.ylabel(\"Estimated Water Use\")\n",
    "plt.grid()\n",
    "plt.show()"
   ]
  },
  {
   "cell_type": "markdown",
   "id": "84d5a6bd",
   "metadata": {},
   "source": [
    "## Quantile Regression"
   ]
  },
  {
   "cell_type": "markdown",
   "id": "06edd75d",
   "metadata": {},
   "source": [
    "## Use Xgboost"
   ]
  },
  {
   "cell_type": "code",
   "execution_count": null,
   "id": "44e7b842",
   "metadata": {},
   "outputs": [],
   "source": [
    "# # columns to drop\n",
    "# columns_to_drop = ['population', 'sys_id', 'pc']\n",
    "# df = dataset.copy()\n",
    "# df = df[df['wu_rate']>0]\n",
    "# df['pc'] = df['wu_rate']/df['pop']\n",
    "# df = df[df['pop']>1000]\n",
    "# mask = (df['pc']>20) & (df['pc']<400)\n",
    "# df = df[mask]\n",
    "\n",
    "# df = df.drop(columns_to_drop, axis=1)\n",
    "# df['pop'] = np.log10(df['pop'])\n",
    "# df['wu_rate'] = np.log10(df['wu_rate'])\n",
    "# features = list(df.columns)\n",
    "# features.remove('wu_rate')\n",
    "\n",
    "\n",
    "# X =df[features]\n",
    "# y = df['wu_rate']"
   ]
  },
  {
   "cell_type": "code",
   "execution_count": null,
   "id": "0de91b1f",
   "metadata": {},
   "outputs": [],
   "source": [
    "#X_train, X_test, y_train, y_test = train_test_split(X, y, test_size=0.2, random_state = 123)"
   ]
  },
  {
   "cell_type": "code",
   "execution_count": null,
   "id": "97553571",
   "metadata": {},
   "outputs": [],
   "source": [
    "def myfunc(quantile):\n",
    "    def _myfunc(y_true, y_pred):\n",
    "        errors = y_pred - y_true\n",
    "        left_mask = errors < 0\n",
    "        right_mask = errors > 0\n",
    "\n",
    "        grad = -quantile * left_mask + (1 - quantile) * right_mask\n",
    "        hess =  np.ones_like(y_pred)\n",
    "\n",
    "        return grad, hess\n",
    "    return _myfunc"
   ]
  },
  {
   "cell_type": "code",
   "execution_count": null,
   "id": "f0091b6d",
   "metadata": {},
   "outputs": [],
   "source": [
    "# log cosh quantile is a regularized quantile loss function\n",
    "def log_cosh_quantile(alpha):\n",
    "    def _log_cosh_quantile(y_true, y_pred):\n",
    "        err = y_pred - y_true\n",
    "        err = np.where(err < 0, alpha * err, (1 - alpha) * err)\n",
    "        grad = np.tanh(err)\n",
    "        hess = 1 / np.cosh(err)**2\n",
    "        hess[hess<0.01] =0.01 \n",
    "        #hess = np.ones_like(hess)\n",
    "        \n",
    "        return grad, hess\n",
    "    return _log_cosh_quantile"
   ]
  },
  {
   "cell_type": "code",
   "execution_count": null,
   "id": "f3818e32",
   "metadata": {},
   "outputs": [],
   "source": [
    "1 / np.cosh(-1000)**2"
   ]
  },
  {
   "cell_type": "code",
   "execution_count": null,
   "id": "bba1afdb",
   "metadata": {},
   "outputs": [],
   "source": [
    "def original_quantile_loss(alpha,delta):\n",
    "    def _original_quantile_loss(y_true,y_pred):\n",
    "        x = y_true - y_pred\n",
    "        grad = (x<(alpha-1.0)*delta)*(1.0-alpha)-((x>=(alpha-1.0)*delta)& (x<alpha*delta) )*x/delta-alpha*(x>alpha*delta)\n",
    "        hess = ((x>=(alpha-1.0)*delta)& (x<alpha*delta) )/delta \n",
    "        return grad,hess\n",
    "    return _original_quantile_loss"
   ]
  },
  {
   "cell_type": "code",
   "execution_count": null,
   "id": "a0a05488",
   "metadata": {},
   "outputs": [],
   "source": [
    "quantile_alphas = [0.1, 0.5, 0.90]\n",
    "\n",
    "xgb_quantile_alphas = {}\n",
    "for quantile_alpha in quantile_alphas:\n",
    "    # to train a quantile regression, we change the objective parameter and\n",
    "    # specify the quantile value we're interested in\n",
    "    gb = xgb.XGBRegressor(objective=log_cosh_quantile(quantile_alpha), colsample_bytree=0.8, learning_rate=0.05,\n",
    "                              max_depth=5, alpha=0.01, n_estimators=500, rate_drop=0.9, skip_drop=0.5, subsample=0.8,\n",
    "                              seed = 323, reg_lambda=0.01)\n",
    "    gb.fit(X_train, y_train)\n",
    "    xgb_quantile_alphas[quantile_alpha] = gb"
   ]
  },
  {
   "cell_type": "code",
   "execution_count": null,
   "id": "25cac07b",
   "metadata": {},
   "outputs": [],
   "source": [
    "plt.figure()\n",
    "for quantile_alpha, lgb in xgb_quantile_alphas.items():\n",
    "    ypredict = lgb.predict(X_test)\n",
    "    plt.scatter(10**y_test, 10**ypredict, s = 4, label = \"{}\".format\n",
    "                (quantile_alpha))\n",
    "plt.gca().set_yscale('log')\n",
    "plt.gca().set_xscale('log')\n",
    "plt.legend()\n",
    "lim = [min(10**y_test), max(10**y_test)]\n",
    "plt.plot(lim, lim, 'k')\n",
    "plt.xlabel(\"Actual Water Use\")\n",
    "plt.ylabel(\"Estimated Water Use\")"
   ]
  },
  {
   "cell_type": "code",
   "execution_count": null,
   "id": "49ef09fd",
   "metadata": {},
   "outputs": [],
   "source": []
  },
  {
   "cell_type": "code",
   "execution_count": null,
   "id": "94338d92",
   "metadata": {},
   "outputs": [],
   "source": [
    "\n"
   ]
  },
  {
   "cell_type": "code",
   "execution_count": null,
   "id": "ff82965e",
   "metadata": {},
   "outputs": [],
   "source": []
  },
  {
   "cell_type": "markdown",
   "id": "4d5a86ff",
   "metadata": {},
   "source": [
    "## Use Ligh GBM"
   ]
  },
  {
   "cell_type": "code",
   "execution_count": null,
   "id": "c9eedc11",
   "metadata": {},
   "outputs": [],
   "source": [
    "from lightgbm import LGBMRegressor"
   ]
  },
  {
   "cell_type": "code",
   "execution_count": null,
   "id": "9c124153",
   "metadata": {},
   "outputs": [],
   "source": [
    "lgb_params = {\n",
    "    'n_jobs': 1,\n",
    "    'max_depth': 4,\n",
    "    'min_data_in_leaf': 10,\n",
    "    'subsample': 0.9,\n",
    "    'n_estimators': 80,\n",
    "    'learning_rate': 0.1,\n",
    "    'colsample_bytree': 0.9,\n",
    "    'boosting_type': 'gbdt'\n",
    "}"
   ]
  },
  {
   "cell_type": "code",
   "execution_count": null,
   "id": "81e9657f",
   "metadata": {},
   "outputs": [],
   "source": [
    "quantile_alphas = [0.1, 0.5, 0.90]\n",
    "\n",
    "lgb_quantile_alphas = {}\n",
    "for quantile_alpha in quantile_alphas:\n",
    "    # to train a quantile regression, we change the objective parameter and\n",
    "    # specify the quantile value we're interested in\n",
    "    lgb = LGBMRegressor(objective='quantile', alpha=quantile_alpha, **lgb_params)\n",
    "    lgb.fit(X_train, y_train)\n",
    "    lgb_quantile_alphas[quantile_alpha] = lgb"
   ]
  },
  {
   "cell_type": "code",
   "execution_count": null,
   "id": "48636230",
   "metadata": {},
   "outputs": [],
   "source": [
    "plt.figure()\n",
    "for quantile_alpha, lgb in lgb_quantile_alphas.items():\n",
    "    ypredict = lgb.predict(X_test)\n",
    "    plt.scatter(10**y_test, 10**ypredict, s = 4, label = \"{}\".format\n",
    "                (quantile_alpha))\n",
    "plt.gca().set_yscale('log')\n",
    "plt.gca().set_xscale('log')\n",
    "plt.legend()\n",
    "lim = [min(10**y_test), max(10**y_test)]\n",
    "plt.plot(lim, lim, 'k')\n",
    "plt.xlabel(\"Actual Water Use\")\n",
    "plt.ylabel(\"Estimated Water Use\")"
   ]
  },
  {
   "cell_type": "markdown",
   "id": "590fade0",
   "metadata": {},
   "source": [
    "# Dimension-reduction"
   ]
  },
  {
   "cell_type": "code",
   "execution_count": null,
   "id": "71ed6bbc",
   "metadata": {},
   "outputs": [],
   "source": [
    "columns_to_drop = ['population', 'sys_id', 'wu_rate', 'pop', 'households2', 'n_employed', 'n_houses']\n",
    "df = dataset.copy()\n",
    "\n",
    "df['pc'] = df['wu_rate']/df['pop']\n",
    "df = df[df['pop']>100]\n",
    "mask = (df['pc']>20) & (df['pc']<500)\n",
    "df = df[mask]\n",
    "\n",
    "\n",
    "df = df.drop(columns_to_drop, axis=1)\n",
    "features = list(df.columns)\n",
    "features.remove('pc')\n",
    "X =df[features]\n",
    "y = df['pc']\n"
   ]
  },
  {
   "cell_type": "code",
   "execution_count": null,
   "id": "c491b6e3",
   "metadata": {},
   "outputs": [],
   "source": [
    "from sklearn.decomposition import PCA\n",
    "pca = PCA(n_components=10, whiten = True)\n",
    "pca.fit(X)\n",
    "\n",
    "print(pca.explained_variance_ratio_)\n",
    "\n",
    "print(pca.singular_values_)"
   ]
  },
  {
   "cell_type": "code",
   "execution_count": null,
   "id": "c5e96ef0",
   "metadata": {},
   "outputs": [],
   "source": [
    "pca.transform(X)"
   ]
  },
  {
   "cell_type": "markdown",
   "id": "c4a29621",
   "metadata": {},
   "source": [
    "# Testing more ideas for estimating Per Capita "
   ]
  },
  {
   "cell_type": "code",
   "execution_count": null,
   "id": "846a2c7e",
   "metadata": {},
   "outputs": [],
   "source": [
    "def make_dataset(dataset = dataset, filters = [], drop_cols = [] ):\n",
    "    pass\n",
    "    "
   ]
  },
  {
   "cell_type": "markdown",
   "id": "ef099700",
   "metadata": {},
   "source": [
    "## No action"
   ]
  },
  {
   "cell_type": "code",
   "execution_count": null,
   "id": "fa9f56a8",
   "metadata": {},
   "outputs": [],
   "source": [
    " \n",
    "columns_to_drop = ['population', 'sys_id', 'wu_rate']\n",
    "df = dataset.copy()\n",
    "\n",
    "df['pc'] = df['wu_rate']/df['pop']\n",
    "df = df[df['pop']>100]\n",
    "mask = (df['pc']>20) & (df['pc']<500)\n",
    "df = df[mask]\n",
    "\n",
    "\n",
    "df = df.drop(columns_to_drop, axis=1)\n",
    "features = list(df.columns)\n",
    "features.remove('pc')\n",
    "X =df[features]\n",
    "y = df['pc']\n",
    "\n",
    "#squarederror\n",
    "X_train, X_test, y_train, y_test = train_test_split(X, y, test_size=0.2, random_state = 123)\n",
    "gb = xgb.XGBRegressor(objective=\"reg:squarederror\", colsample_bytree=0.8, learning_rate=0.1,\n",
    "                              max_depth=7, alpha=0.01, n_estimators=500, rate_drop=0.9, skip_drop=0.5, subsample=0.8,\n",
    "                              seed = 123, reg_lambda=0.0)\n",
    "\n",
    "w = np.exp(1e-2*np.power((y_train-200)/10, 2.0))\n",
    "w = w/np.sum(w)\n",
    "w = w.values\n",
    "w = w/np.max(w)\n",
    "gb.fit(X_train, y_train, sample_weight=w/w)\n",
    "plt.figure()\n",
    "ypredict = gb.predict(X_test)\n",
    "\n",
    "w2 = np.exp(1e-3*np.power((y_test-200)/10, 2.0))\n",
    "w2 = w2/np.sum(w)\n",
    "w2 = w2.values\n",
    "w2 = w2/np.max(w2)\n",
    "\n",
    "accuracy = r2_score(y_test, ypredict, sample_weight=w2/w2)\n",
    "accuracy\n",
    "\n",
    "plt.scatter(y_test, ypredict, s = 4)\n",
    "plt.plot([min(y_test), max(y_test)], [min(y_test), max(y_test)], 'r')\n",
    "#plt.gca().set_yscale('log')\n",
    "#plt.gca().set_xscale('log')\n",
    "plt.title(\"$R^2 = ${}\".format(accuracy))\n",
    "plt.xlabel(\"Actual PC Water Use\")\n",
    "plt.ylabel(\"Estimated PC Water Use\")\n",
    "plt.grid()\n",
    "plt.show()"
   ]
  },
  {
   "cell_type": "code",
   "execution_count": null,
   "id": "a65e9440",
   "metadata": {},
   "outputs": [],
   "source": []
  },
  {
   "cell_type": "code",
   "execution_count": null,
   "id": "9d622212",
   "metadata": {},
   "outputs": [],
   "source": [
    "\n",
    "columns_to_drop = ['population', 'sys_id', 'wu_rate']\n",
    "df = dataset.copy()\n",
    "del(df['pc_median'])\n",
    "df['pc'] = df['wu_rate']/df['pop']\n",
    "df = df[df['pop']>1000]\n",
    "mask = (df['pc']>20) & (df['pc']<500)\n",
    "df = df[mask]\n",
    "\n",
    "\n",
    "df = df.drop(columns_to_drop, axis=1)\n",
    "features = list(df.columns)\n",
    "features.remove('pc')\n",
    "X =df[features]\n",
    "y = df['pc']\n",
    "\n",
    "# \n",
    "plt.figure()\n",
    "v_freq = plt.hist(df['pc'].values, bins = 30)\n",
    "freq = np.interp(df['pc'].values, v_freq[1][1:], v_freq[0], left=None, right=None, period=None)\n",
    "X['freq'] = freq\n",
    "#squarederror\n",
    "X_train, X_test, y_train, y_test = train_test_split(X, y, test_size=0.25, random_state = 123)\n",
    "Train_freq = X_train['freq']\n",
    "Test_freq = X_test['freq']\n",
    "del(X_test['freq'])\n",
    "del(X_train['freq'])\n",
    "\n",
    "#squarederror\n",
    "#X_train, X_test, y_train, y_test = train_test_split(X, y, test_size=0.2, random_state = 123)\n",
    "gb = xgb.XGBRegressor(objective=\"reg:squarederror\", tree_method = 'hist', colsample_bytree=0.8, learning_rate=0.20,\n",
    "                              max_depth=7, alpha=100,  n_estimators=500, rate_drop=0.9, skip_drop=0.5, subsample=0.8,\n",
    "                              seed = 123, reg_lambda=10, min_child_weight = 1, gamma = 10, max_delta_step = 0, \n",
    "                           )\n",
    "#gb = xgb.XGBRegressor(objective=\"reg:squarederror\" )\n",
    "\n",
    "\n",
    "w = 1.0/Train_freq\n",
    "#w = w/np.sum(w)\n",
    "w = w/np.max(w)\n",
    "gb.fit(X_train, y_train, sample_weight=w/w)\n",
    "plt.figure()\n",
    "ypredict = gb.predict(X_test)\n",
    "\n",
    "w2 = 1.0/Test_freq\n",
    "#w2 = w2/np.sum(w)\n",
    "w2 = w2/np.max(w2)\n",
    "\n",
    "accuracy = r2_score(y_test, ypredict, sample_weight=w2/w2)\n",
    "accuracy\n",
    "\n",
    "plt.scatter(y_test, ypredict, s = 4)\n",
    "plt.plot([min(y_test), max(y_test)], [min(y_test), max(y_test)], 'r')\n",
    "#plt.gca().set_yscale('log')\n",
    "#plt.gca().set_xscale('log')\n",
    "plt.title(\"$R^2 = ${}\".format(accuracy))\n",
    "plt.xlabel(\"Actual PC Water Use\")\n",
    "plt.ylabel(\"Estimated PC Water Use\")\n",
    "plt.grid()\n",
    "plt.show()"
   ]
  },
  {
   "cell_type": "markdown",
   "id": "1f1030fb",
   "metadata": {},
   "source": [
    "# Use Pipeline \n"
   ]
  },
  {
   "cell_type": "code",
   "execution_count": null,
   "id": "867f08ac",
   "metadata": {},
   "outputs": [],
   "source": [
    "\n",
    "\n",
    "# (A.1) transformation of numeric features\n",
    "numeric_features = [\"age\", \"fare\"]\n",
    "numeric_transformer = Pipeline(\n",
    "    steps=[(\"imputer\", SimpleImputer(strategy=\"median\")), (\"scaler\", StandardScaler())]\n",
    ")\n",
    "\n",
    "# (A.2) transformation of categorical features\n",
    "categorical_features = [\"embarked\", \"sex\", \"pclass\"]\n",
    "categorical_transformer = OneHotEncoder(handle_unknown=\"ignore\")\n",
    "\n",
    "\n",
    "# (A.3)do all preprocessing\n",
    "preprocessor = ColumnTransformer(\n",
    "    transformers=[\n",
    "        (\"num\", numeric_transformer, numeric_features),\n",
    "        (\"cat\", categorical_transformer, categorical_features),\n",
    "    ]\n",
    ")\n",
    "\n",
    "#  (B.1) complete pipeline\n",
    "clf = Pipeline(\n",
    "    steps=[(\"preprocessor\", preprocessor), (\"classifier\", LogisticRegression())]\n",
    ")\n"
   ]
  },
  {
   "cell_type": "code",
   "execution_count": null,
   "id": "5f5d822f",
   "metadata": {},
   "outputs": [],
   "source": [
    "from sklearn import set_config\n",
    "\n",
    "set_config(display=\"diagram\")\n",
    "clf"
   ]
  },
  {
   "cell_type": "code",
   "execution_count": null,
   "id": "1a722d2a",
   "metadata": {},
   "outputs": [],
   "source": [
    "## Scaling"
   ]
  },
  {
   "cell_type": "code",
   "execution_count": null,
   "id": "0261fc6e",
   "metadata": {},
   "outputs": [],
   "source": [
    "from sklearn.pipeline import Pipeline\n",
    "from sklearn.preprocessing import StandardScaler\n",
    "from sklearn.preprocessing import RobustScaler\n",
    "from sklearn.decomposition import PCA\n",
    "\n",
    "pipeline = Pipeline([ ('robost_scaler', RobustScaler()),                     \n",
    "                    ('model', gb)])\n",
    "kwargs = {pipeline.steps[-1][0] + '__sample_weight': w/w}\n",
    "pipeline.fit(X_train, y_train, **kwargs)\n",
    "\n",
    "plt.figure()\n",
    "ypredict = pipeline.predict(X_test)\n",
    "\n",
    "w2 = 1.0/Test_freq\n",
    "#w2 = w2/np.sum(w)\n",
    "w2 = w2/np.max(w2)\n",
    "\n",
    "accuracy = r2_score(y_test, ypredict, sample_weight=w2/w2)\n",
    "accuracy\n",
    "\n",
    "plt.scatter(y_test, ypredict, s = 4)\n",
    "plt.plot([min(y_test), max(y_test)], [min(y_test), max(y_test)], 'r')\n",
    "#plt.gca().set_yscale('log')\n",
    "#plt.gca().set_xscale('log')\n",
    "plt.title(\"$R^2 = ${}\".format(accuracy))\n",
    "plt.xlabel(\"Actual PC Water Use\")\n",
    "plt.ylabel(\"Estimated PC Water Use\")\n",
    "plt.grid()\n",
    "plt.show()"
   ]
  },
  {
   "cell_type": "code",
   "execution_count": null,
   "id": "3f8532f8",
   "metadata": {},
   "outputs": [],
   "source": [
    "from sklearn.pipeline import Pipeline\n",
    "from sklearn.preprocessing import StandardScaler, RobustScaler\n",
    "from sklearn.preprocessing import QuantileTransformer, PowerTransformer\n",
    "\n",
    "from sklearn.decomposition import PCA\n",
    "\n",
    "pipeline = Pipeline([ ('uniform_dist', PowerTransformer()),                     \n",
    "                    ('model', gb)])\n",
    "kwargs = {pipeline.steps[-1][0] + '__sample_weight': w/w}\n",
    "pipeline.fit(X_train, y_train, **kwargs)\n",
    "\n",
    "plt.figure()\n",
    "ypredict = pipeline.predict(X_test)\n",
    "\n",
    "w2 = 1.0/Test_freq\n",
    "#w2 = w2/np.sum(w)\n",
    "w2 = w2/np.max(w2)\n",
    "\n",
    "accuracy = r2_score(y_test, ypredict, sample_weight=w2/w2)\n",
    "accuracy\n",
    "\n",
    "plt.scatter(y_test, ypredict, s = 4)\n",
    "plt.plot([min(y_test), max(y_test)], [min(y_test), max(y_test)], 'r')\n",
    "#plt.gca().set_yscale('log')\n",
    "#plt.gca().set_xscale('log')\n",
    "plt.title(\"$R^2 = ${}\".format(accuracy))\n",
    "plt.xlabel(\"Actual PC Water Use\")\n",
    "plt.ylabel(\"Estimated PC Water Use\")\n",
    "plt.grid()\n",
    "plt.show()"
   ]
  },
  {
   "cell_type": "code",
   "execution_count": null,
   "id": "e42370dd",
   "metadata": {},
   "outputs": [],
   "source": [
    "from sklearn.pipeline import Pipeline\n",
    "from sklearn.preprocessing import StandardScaler, RobustScaler\n",
    "from sklearn.preprocessing import QuantileTransformer, PowerTransformer\n",
    "from sklearn.preprocessing import KBinsDiscretizer\n",
    "\n",
    "from sklearn.decomposition import PCA\n",
    "\n",
    "pipeline = Pipeline([ ('disc', KBinsDiscretizer(n_bins=1000, encode='ordinal', strategy='uniform')),                     \n",
    "                    ('model', gb)])\n",
    "kwargs = {pipeline.steps[-1][0] + '__sample_weight': w/w}\n",
    "pipeline.fit(X_train, y_train, **kwargs)\n",
    "\n",
    "plt.figure()\n",
    "ypredict = pipeline.predict(X_test)\n",
    "\n",
    "w2 = 1.0/Test_freq\n",
    "#w2 = w2/np.sum(w)\n",
    "w2 = w2/np.max(w2)\n",
    "\n",
    "accuracy = r2_score(y_test, ypredict, sample_weight=w2/w2)\n",
    "accuracy\n",
    "\n",
    "plt.scatter(y_test, ypredict, s = 4)\n",
    "plt.plot([min(y_test), max(y_test)], [min(y_test), max(y_test)], 'r')\n",
    "#plt.gca().set_yscale('log')\n",
    "#plt.gca().set_xscale('log')\n",
    "plt.title(\"$R^2 = ${}\".format(accuracy))\n",
    "plt.xlabel(\"Actual PC Water Use\")\n",
    "plt.ylabel(\"Estimated PC Water Use\")\n",
    "plt.grid()\n",
    "plt.show()"
   ]
  },
  {
   "cell_type": "code",
   "execution_count": null,
   "id": "b571756a",
   "metadata": {},
   "outputs": [],
   "source": [
    "# plot feature importance\n",
    "# ‘weight’: the number of times a feature is used to split the data across all trees.\n",
    "\n",
    "# ‘gain’: the average gain across all splits the feature is used in.\n",
    "\n",
    "# ‘cover’: the average coverage across all splits the feature is used in.\n",
    "\n",
    "# ‘total_gain’: the total gain across all splits the feature is used in.\n",
    "\n",
    "# ‘total_cover’: the total coverage across all splits the feature is used in.\n",
    "plot_importance(gb,   xlabel='total_gain', importance_type='total_gain', max_num_features = 10)\n",
    "from sklearn.feature_selection import SelectFromModel\n",
    "plt.tight_layout()"
   ]
  },
  {
   "cell_type": "code",
   "execution_count": null,
   "id": "41fd842b",
   "metadata": {},
   "outputs": [],
   "source": [
    "# Another look at importance"
   ]
  },
  {
   "cell_type": "code",
   "execution_count": null,
   "id": "17f5a2c0",
   "metadata": {},
   "outputs": [],
   "source": [
    "plt.figure()\n",
    "ypredict = gb.predict(X_test)\n",
    "\n",
    "w2 = 1.0/Test_freq\n",
    "#w2 = w2/np.sum(w)\n",
    "w2 = w2/np.max(w2)\n",
    "\n",
    "accuracy = r2_score(y_test, ypredict, sample_weight=w2/w2)\n",
    "accuracy\n",
    "\n",
    "plt.scatter(y_test, ypredict, s = 4)\n",
    "plt.plot([min(y_test), max(y_test)], [min(y_test), max(y_test)], 'r')\n",
    "#plt.gca().set_yscale('log')\n",
    "#plt.gca().set_xscale('log')\n",
    "plt.title(\"$R^2 = ${}\".format(accuracy))\n",
    "plt.xlabel(\"Actual PC Water Use\")\n",
    "plt.ylabel(\"Estimated PC Water Use\")\n",
    "plt.grid()\n",
    "plt.show()"
   ]
  },
  {
   "cell_type": "code",
   "execution_count": null,
   "id": "860aa749",
   "metadata": {},
   "outputs": [],
   "source": [
    "# Tuning\n",
    "gb.get_params()\n",
    "params = {\n",
    "'colsample_bylevel': scipy.stats.uniform (loc = 0.1, scale=0.9),\n",
    "'colsample_bynode': scipy.stats.uniform (loc = 0.1, scale=0.9),\n",
    "'colsample_bytree': scipy.stats.uniform (loc = 0.1, scale=0.9),\n",
    "'gamma': scipy.stats.uniform (loc = 0, scale=100),\n",
    "'learning_rate': scipy.stats.uniform (loc = 0.001, scale=0.4),\n",
    "'max_depth': [3,4,5,6,7,8,9, 10],\n",
    "'min_child_weight' : scipy.stats.uniform (loc = 0 scale=1000),,\n",
    "'reg_alpha': 100,\n",
    " 'reg_lambda': 10,\n",
    " 'subsample': 0.8\n",
    "}"
   ]
  },
  {
   "cell_type": "code",
   "execution_count": null,
   "id": "6018c8e9",
   "metadata": {},
   "outputs": [],
   "source": [
    "from pycaret.regression import *\n",
    "\n",
    "columns_to_drop = ['population', 'sys_id', 'wu_rate']\n",
    "df = dataset.copy()\n",
    "del(df['pc_median'])\n",
    "df['pc'] = df['wu_rate']/df['pop']\n",
    "df = df[df['pop']>1000]\n",
    "mask = (df['pc']>20) & (df['pc']<500)\n",
    "df = df[mask]\n",
    "\n",
    "\n",
    "df = df.drop(columns_to_drop, axis=1)\n",
    "data = df.sample(frac=0.9, random_state=786)\n",
    "data_unseen = df.drop(data.index)\n",
    "\n",
    "data.reset_index(drop=True, inplace=True)\n",
    "data_unseen.reset_index(drop=True, inplace=True)\n",
    "\n",
    "print('Data for Modeling: ' + str(data.shape))\n",
    "print('Unseen Data For Predictions: ' + str(data_unseen.shape))\n",
    "\n",
    "exp0 = setup(data = data2, target = 'pc', train_size = 0.8,                   \n",
    "                   fold_shuffle= True, data_split_shuffle=True, session_id=123)\n",
    "xgb = create_model('xgboost', fold = 3)\n",
    "tuned_ada = tune_model(xgb)\n"
   ]
  },
  {
   "cell_type": "code",
   "execution_count": null,
   "id": "f5a82bd6",
   "metadata": {},
   "outputs": [],
   "source": []
  },
  {
   "cell_type": "code",
   "execution_count": null,
   "id": "8ba92755",
   "metadata": {},
   "outputs": [],
   "source": [
    "tuned_ada = tune_model(xgb)"
   ]
  },
  {
   "cell_type": "code",
   "execution_count": null,
   "id": "c59000b1",
   "metadata": {},
   "outputs": [],
   "source": [
    "columns_to_drop = ['population', 'sys_id', 'wu_rate']\n",
    "df = dataset.copy()\n",
    "\n",
    "df['pc'] = df['wu_rate']/df['pop']\n",
    "df = df[df['pop']>100]\n",
    "mask = (df['pc']>20) & (df['pc']<500)\n",
    "df = df[mask]\n",
    "\n",
    "\n",
    "df = df.drop(columns_to_drop, axis=1)\n",
    "features = list(df.columns)\n",
    "features.remove('pc')\n",
    "X =df[features]\n",
    "y = df['pc']\n"
   ]
  },
  {
   "cell_type": "code",
   "execution_count": null,
   "id": "55185197",
   "metadata": {},
   "outputs": [],
   "source": [
    "columns_to_drop = ['population', 'sys_id', 'wu_rate']\n",
    "df = dataset.copy()\n",
    "\n",
    "df['pc'] = df['wu_rate']/df['pop']\n",
    "df = df[df['pop']>100]\n",
    "mask = (df['pc']>20) & (df['pc']<500)\n",
    "df = df[mask]\n",
    "\n",
    "\n",
    "df = df.drop(columns_to_drop, axis=1)\n",
    "features = list(df.columns)\n",
    "features.remove('pc')\n",
    "X =df[features]\n",
    "y = df['pc']\n"
   ]
  },
  {
   "cell_type": "code",
   "execution_count": null,
   "id": "5bea8f62",
   "metadata": {},
   "outputs": [],
   "source": [
    "from sklearn.decomposition import PCA\n",
    "pca = PCA(n_components=20, whiten = True)\n",
    "pca.fit(X)\n",
    "\n",
    "print(pca.explained_variance_ratio_)\n",
    "\n",
    "print(pca.singular_values_)\n",
    "X = pca.transform(X)"
   ]
  },
  {
   "cell_type": "code",
   "execution_count": null,
   "id": "fcb00fa3",
   "metadata": {},
   "outputs": [],
   "source": [
    "#squarederror\n",
    "X_train, X_test, y_train, y_test = train_test_split(X, y, test_size=0.2, random_state = 123)\n",
    "gb = xgb.XGBRegressor(objective='reg:\"squarederror\"', colsample_bytree=0.8, learning_rate=0.1,\n",
    "                              max_depth=7, alpha=0.01, n_estimators=500, rate_drop=0.9, skip_drop=0.5, subsample=0.8,\n",
    "                              seed = 123, reg_lambda=0.0)\n",
    "gb.fit(X_train, y_train)"
   ]
  },
  {
   "cell_type": "code",
   "execution_count": null,
   "id": "f505696e",
   "metadata": {},
   "outputs": [],
   "source": [
    "plt.figure()\n",
    "ypredict = gb.predict(X_test)\n",
    "accuracy = r2_score(y_test, ypredict)\n",
    "accuracy\n",
    "accuracy = int(accuracy*100)/100.0\n",
    "plt.scatter(y_test, ypredict, s = 4)\n",
    "plt.plot([min(y_test), max(y_test)], [min(y_test), max(y_test)], 'r')\n",
    "#plt.gca().set_yscale('log')\n",
    "#plt.gca().set_xscale('log')\n",
    "plt.title(\"$R^2 = ${}\".format(accuracy))\n",
    "plt.xlabel(\"Actual PC Water Use\")\n",
    "plt.ylabel(\"Estimated PC Water Use\")\n",
    "plt.grid()\n",
    "plt.show()"
   ]
  },
  {
   "cell_type": "markdown",
   "id": "1cbd9be4",
   "metadata": {},
   "source": [
    "## Quantile transformation of the target PC\n",
    "### Uniform Distribution"
   ]
  },
  {
   "cell_type": "code",
   "execution_count": null,
   "id": "07853b98",
   "metadata": {},
   "outputs": [],
   "source": [
    "import numpy as np\n",
    "import pandas as pd\n",
    "from sklearn.preprocessing import quantile_transform\n",
    "from scipy import stats\n",
    "x = pd.DataFrame(np.random.rand(100), columns = ['x'])\n",
    "stats.percentileofscore(x['x'], 0.47219 )"
   ]
  },
  {
   "cell_type": "code",
   "execution_count": null,
   "id": "332e3e1f",
   "metadata": {},
   "outputs": [],
   "source": []
  },
  {
   "cell_type": "code",
   "execution_count": null,
   "id": "b9a39cf8",
   "metadata": {},
   "outputs": [],
   "source": [
    "from scipy import stats\n"
   ]
  },
  {
   "cell_type": "code",
   "execution_count": null,
   "id": "5de7a428",
   "metadata": {},
   "outputs": [],
   "source": [
    "# quantile transform\n",
    "# columns to drop\n",
    "columns_to_drop = ['population', 'sys_id', 'wu_rate']\n",
    "df = dataset.copy()\n",
    "\n",
    "df['pc'] = df['wu_rate']/df['pop']\n",
    "df = df[df['pop']>100]\n",
    "mask = (df['pc']>20) & (df['pc']<500)\n",
    "df = df[mask]\n",
    "pc_max = df['pc'].max()\n",
    "pc_min = df['pc'].min()\n",
    "\n",
    "df = df.drop(columns_to_drop, axis=1)\n",
    "wu = quantile_transform(df['pc'].values.reshape(len(df),1), n_quantiles=5000, \n",
    "                        random_state=0) #, output_distribution = 'normal'\n",
    "df['pc'] = wu.flatten()\n",
    "features = list(df.columns)\n",
    "features.remove('pc')\n",
    "X =df[features]\n",
    "y = df['pc']"
   ]
  },
  {
   "cell_type": "code",
   "execution_count": null,
   "id": "c2419f6e",
   "metadata": {},
   "outputs": [],
   "source": []
  },
  {
   "cell_type": "code",
   "execution_count": null,
   "id": "dd7fe55f",
   "metadata": {},
   "outputs": [],
   "source": [
    "X_train, X_test, y_train, y_test = train_test_split(X, y, test_size=0.2, random_state = 123)"
   ]
  },
  {
   "cell_type": "code",
   "execution_count": null,
   "id": "32ae79ce",
   "metadata": {},
   "outputs": [],
   "source": [
    "#squarederror\n",
    "gb = xgb.XGBRegressor(objective='reg:squarederror', colsample_bytree=0.8, learning_rate=0.1,\n",
    "                              max_depth=7, alpha=0.01, n_estimators=500, rate_drop=0.9, skip_drop=0.5, subsample=0.8,\n",
    "                              seed = 123, reg_lambda=0.0)"
   ]
  },
  {
   "cell_type": "code",
   "execution_count": null,
   "id": "401a6619",
   "metadata": {},
   "outputs": [],
   "source": [
    "gb.fit(X_train, y_train)"
   ]
  },
  {
   "cell_type": "code",
   "execution_count": null,
   "id": "0359d9d8",
   "metadata": {},
   "outputs": [],
   "source": [
    "plt.figure()\n",
    "ypredict = gb.predict(X_test)\n",
    "accuracy = r2_score(y_test, ypredict)\n",
    "accuracy\n",
    "accuracy = int(accuracy*100)/100.0\n",
    "plt.scatter(y_test, ypredict, s = 4)\n",
    "plt.plot([min(y_test), max(y_test)], [min(y_test), max(y_test)], 'r')\n",
    "#plt.gca().set_yscale('log')\n",
    "#plt.gca().set_xscale('log')\n",
    "plt.title(\"$R^2 = ${}\".format(accuracy))\n",
    "plt.xlabel(\"Actual Water Use\")\n",
    "plt.ylabel(\"Estimated Water Use\")\n",
    "plt.grid()\n",
    "plt.show()"
   ]
  },
  {
   "cell_type": "markdown",
   "id": "b619bcec",
   "metadata": {},
   "source": []
  },
  {
   "cell_type": "code",
   "execution_count": null,
   "id": "df8fc191",
   "metadata": {},
   "outputs": [],
   "source": [
    "plt.figure()\n",
    "ypredict = gb.predict(X_test)\n",
    "ypredict = pc_min + ypredict*(pc_max-pc_min)\n",
    "y_test = pc_min + y_test*(pc_max-pc_min)\n",
    "accuracy = r2_score(y_test, ypredict)\n",
    "accuracy\n",
    "accuracy = int(accuracy*100)/100.0\n",
    "plt.scatter(y_test, ypredict, s = 4)\n",
    "plt.plot([min(y_test), max(y_test)], [min(y_test), max(y_test)], 'r')\n",
    "plt.title(\"$R^2 = ${}\".format(accuracy))\n",
    "plt.xlabel(\"Actual PC Water Use\")\n",
    "plt.ylabel(\"Estimated PC Water Use\")\n",
    "plt.grid()\n",
    "plt.show()"
   ]
  },
  {
   "cell_type": "markdown",
   "id": "871c0fbf",
   "metadata": {},
   "source": [
    "## Normal Distribution"
   ]
  },
  {
   "cell_type": "code",
   "execution_count": null,
   "id": "0c8279cf",
   "metadata": {},
   "outputs": [],
   "source": [
    "# quantile transform\n",
    "# columns to drop\n",
    "columns_to_drop = ['population', 'sys_id', 'wu_rate']\n",
    "df = dataset.copy()\n",
    "\n",
    "df['pc'] = df['wu_rate']/df['pop']\n",
    "df = df[df['pop']>100]\n",
    "mask = (df['pc']>20) & (df['pc']<500)\n",
    "df = df[mask]\n",
    "pc_mean = df['pc'].mean()\n",
    "pc_std= df['pc'].std()\n",
    "\n",
    "df = df.drop(columns_to_drop, axis=1)\n",
    "wu = quantile_transform(df['pc'].values.reshape(len(df),1), n_quantiles=5000, \n",
    "                        random_state=0, output_distribution = 'normal') #, output_distribution = 'normal'\n",
    "df['pc'] = wu.flatten()\n",
    "features = list(df.columns)\n",
    "features.remove('pc')\n",
    "X =df[features]\n",
    "y = df['pc']"
   ]
  },
  {
   "cell_type": "code",
   "execution_count": null,
   "id": "7c42c370",
   "metadata": {},
   "outputs": [],
   "source": [
    "X_train, X_test, y_train, y_test = train_test_split(X, y, test_size=0.2, random_state = 123)\n"
   ]
  },
  {
   "cell_type": "code",
   "execution_count": null,
   "id": "cb16582e",
   "metadata": {},
   "outputs": [],
   "source": [
    "gb = xgb.XGBRegressor(objective='reg:squarederror', colsample_bytree=0.8, learning_rate=0.1,\n",
    "                              max_depth=7, alpha=0.01, n_estimators=500, rate_drop=0.9, skip_drop=0.5, subsample=0.8,\n",
    "                              seed = 123, reg_lambda=0.0)"
   ]
  },
  {
   "cell_type": "code",
   "execution_count": null,
   "id": "dcccf413",
   "metadata": {},
   "outputs": [],
   "source": [
    "gb.fit(X_train, y_train)"
   ]
  },
  {
   "cell_type": "code",
   "execution_count": null,
   "id": "59eb09b9",
   "metadata": {},
   "outputs": [],
   "source": [
    "plt.figure()\n",
    "ypredict = gb.predict(X_test)\n",
    "accuracy = r2_score(y_test, ypredict)\n",
    "accuracy\n",
    "accuracy = int(accuracy*100)/100.0\n",
    "plt.scatter(y_test, ypredict, s = 4)\n",
    "plt.plot([min(y_test), max(y_test)], [min(y_test), max(y_test)], 'r')\n",
    "#plt.gca().set_yscale('log')\n",
    "#plt.gca().set_xscale('log')\n",
    "plt.title(\"$R^2 = ${}\".format(accuracy))\n",
    "plt.xlabel(\"Actual PC Water Use\")\n",
    "plt.ylabel(\"Estimated PC Water Use\")\n",
    "plt.grid()\n",
    "plt.show()"
   ]
  },
  {
   "cell_type": "code",
   "execution_count": null,
   "id": "b6067bfa",
   "metadata": {},
   "outputs": [],
   "source": [
    "pc_std"
   ]
  },
  {
   "cell_type": "code",
   "execution_count": null,
   "id": "790ef756",
   "metadata": {},
   "outputs": [],
   "source": [
    "plt.figure()\n",
    "ypredict = gb.predict(X_test)\n",
    "\n",
    "ypredict= 180+pc_mean + pc_std * ypredict\n",
    "y_test = 180+pc_mean + pc_std * y_test\n",
    "accuracy = r2_score(y_test, ypredict)\n",
    "\n",
    "accuracy = int(accuracy*100)/100.0\n",
    "plt.scatter(y_test, ypredict, s = 4)\n",
    "plt.plot([min(y_test), max(y_test)], [min(y_test), max(y_test)], 'r')\n",
    "\n",
    "plt.title(\"$R^2 = ${}\".format(accuracy))\n",
    "plt.xlabel(\"Actual PC Water Use\")\n",
    "plt.ylabel(\"Estimated PC Water Use\")\n",
    "plt.grid()\n",
    "plt.show()"
   ]
  },
  {
   "cell_type": "code",
   "execution_count": null,
   "id": "1ba4b61a",
   "metadata": {},
   "outputs": [],
   "source": []
  },
  {
   "cell_type": "code",
   "execution_count": null,
   "id": "ea4a395b",
   "metadata": {},
   "outputs": [],
   "source": []
  },
  {
   "cell_type": "code",
   "execution_count": null,
   "id": "c983be59",
   "metadata": {},
   "outputs": [],
   "source": []
  },
  {
   "cell_type": "code",
   "execution_count": null,
   "id": "ff16c9f2",
   "metadata": {},
   "outputs": [],
   "source": []
  }
 ],
 "metadata": {
  "hide_input": false,
  "kernelspec": {
   "display_name": "Python 3 (ipykernel)",
   "language": "python",
   "name": "python3"
  },
  "language_info": {
   "codemirror_mode": {
    "name": "ipython",
    "version": 3
   },
   "file_extension": ".py",
   "mimetype": "text/x-python",
   "name": "python",
   "nbconvert_exporter": "python",
   "pygments_lexer": "ipython3",
   "version": "3.9.12"
  },
  "latex_envs": {
   "LaTeX_envs_menu_present": true,
   "autoclose": false,
   "autocomplete": true,
   "bibliofile": "biblio.bib",
   "cite_by": "apalike",
   "current_citInitial": 1,
   "eqLabelWithNumbers": true,
   "eqNumInitial": 1,
   "hotkeys": {
    "equation": "Ctrl-E",
    "itemize": "Ctrl-I"
   },
   "labels_anchors": false,
   "latex_user_defs": false,
   "report_style_numbering": false,
   "user_envs_cfg": false
  },
  "toc": {
   "base_numbering": 1,
   "nav_menu": {},
   "number_sections": true,
   "sideBar": true,
   "skip_h1_title": false,
   "title_cell": "Table of Contents",
   "title_sidebar": "Contents",
   "toc_cell": false,
   "toc_position": {},
   "toc_section_display": true,
   "toc_window_display": false
  },
  "varInspector": {
   "cols": {
    "lenName": 16,
    "lenType": 16,
    "lenVar": 40
   },
   "kernels_config": {
    "python": {
     "delete_cmd_postfix": "",
     "delete_cmd_prefix": "del ",
     "library": "var_list.py",
     "varRefreshCmd": "print(var_dic_list())"
    },
    "r": {
     "delete_cmd_postfix": ") ",
     "delete_cmd_prefix": "rm(",
     "library": "var_list.r",
     "varRefreshCmd": "cat(var_dic_list()) "
    }
   },
   "types_to_exclude": [
    "module",
    "function",
    "builtin_function_or_method",
    "instance",
    "_Feature"
   ],
   "window_display": false
  }
 },
 "nbformat": 4,
 "nbformat_minor": 5
}
