{
 "cells": [
  {
   "cell_type": "code",
   "execution_count": null,
   "id": "33c4eebe-6a90-41f8-8724-e33ce73b4dc6",
   "metadata": {},
   "outputs": [],
   "source": [
    "import os, sys\n",
    "import pandas as pd\n",
    "from pycaret.regression import *\n",
    "sys.path.append(r\"C:\\work\\water_use\\CAWSC_WaterUse\\WUtrainer\")\n",
    "from featurize import MultiOneHotEncoder\n",
    "target = 'wu_rate'"
   ]
  },
  {
   "cell_type": "markdown",
   "id": "ef49078b-a2e4-43e7-8a80-07cf4b89173d",
   "metadata": {},
   "source": [
    "# Load Dataset\n",
    "## x"
   ]
  },
  {
   "cell_type": "code",
   "execution_count": null,
   "id": "812e2bdf-7b34-4ead-ba71-941f9482f30a",
   "metadata": {},
   "outputs": [],
   "source": [
    "dataset = pd.read_csv(r\"C:\\work\\water_use\\ml_experiments\\annual_v_0_0\\clean_train_db.csv\")\n",
    "pop_info = pd.read_csv(r\"pop_info.csv\")"
   ]
  },
  {
   "cell_type": "code",
   "execution_count": null,
   "id": "c86b2974",
   "metadata": {},
   "outputs": [],
   "source": [
    "#pop_info\n",
    "pop_info['pop'] = pop_info['pop_swud16'].copy()\n",
    "mask = pop_info['pop'].isna() | pop_info['pop']==0\n",
    "pop_info.loc[mask, 'pop'] = pop_info[mask]['plc_pop_interpolated']\n",
    "mask = pop_info['pop'].isna() | pop_info['pop']==0\n",
    "pop_info.loc[mask, 'pop'] = pop_info[mask]['TPOPSRV']\n",
    "mask = pop_info['pop'].isna() | pop_info['pop']==0\n",
    "pop_info.loc[mask, 'pop'] = pop_info[mask]['tract_pop']"
   ]
  },
  {
   "cell_type": "code",
   "execution_count": null,
   "id": "be18b424",
   "metadata": {},
   "outputs": [],
   "source": []
  },
  {
   "cell_type": "code",
   "execution_count": null,
   "id": "2b51bf6d",
   "metadata": {},
   "outputs": [],
   "source": [
    "#pop_info['pop'] = pop_info['pop_swud16'].copy()"
   ]
  },
  {
   "cell_type": "code",
   "execution_count": null,
   "id": "3b7e786c",
   "metadata": {},
   "outputs": [],
   "source": [
    "#mask = pop_info['pop'].isna()\n",
    "#pop_info.loc[mask, 'pop'] = pop_info[mask]['plc_pop_interpolated']"
   ]
  },
  {
   "cell_type": "code",
   "execution_count": null,
   "id": "7e24e3b5",
   "metadata": {},
   "outputs": [],
   "source": [
    "#mask = pop_info['pop'].isna()\n",
    "#pop_info.loc[mask, 'pop'] = pop_info[mask]['TPOPSRV']"
   ]
  },
  {
   "cell_type": "code",
   "execution_count": null,
   "id": "02fb66d5",
   "metadata": {},
   "outputs": [],
   "source": [
    "#mask = pop_info['pop'].isna()\n",
    "#pop_info.loc[mask, 'pop'] = pop_info[mask]['tract_pop']\n",
    "#np.any(pop_info['pop'].isna())"
   ]
  },
  {
   "cell_type": "code",
   "execution_count": null,
   "id": "ae512df6",
   "metadata": {},
   "outputs": [],
   "source": [
    "#dataset = dataset[dataset['Ecode_num']==0]"
   ]
  },
  {
   "cell_type": "code",
   "execution_count": null,
   "id": "4ff0d588-1423-4db0-a346-3567dae1e82a",
   "metadata": {},
   "outputs": [],
   "source": []
  },
  {
   "cell_type": "code",
   "execution_count": null,
   "id": "53844539-d5d7-441f-a367-73e777683669",
   "metadata": {},
   "outputs": [],
   "source": [
    "pop_df = pop_info[['sys_id', 'pop', 'Year']]\n",
    "'sys_id' in dataset.columns\n",
    "dataset = dataset.merge(pop_df, right_on=['sys_id', 'Year'], left_on=['sys_id', 'Year'] , how = 'left')"
   ]
  },
  {
   "cell_type": "code",
   "execution_count": null,
   "id": "2ec0660f",
   "metadata": {},
   "outputs": [],
   "source": [
    "dataset"
   ]
  },
  {
   "cell_type": "code",
   "execution_count": null,
   "id": "5e350bd0",
   "metadata": {},
   "outputs": [],
   "source": [
    "# categorical transformation\n",
    "categorical_features = ['HUC2', 'state_id',  'KG_climate_zone' ] #, 'county_id'\n",
    "ohc1 = MultiOneHotEncoder(catfeatures = categorical_features )\n",
    "dataset = ohc1.transform(dataset)"
   ]
  },
  {
   "cell_type": "code",
   "execution_count": null,
   "id": "7636f084",
   "metadata": {},
   "outputs": [],
   "source": [
    "dataset"
   ]
  },
  {
   "cell_type": "code",
   "execution_count": null,
   "id": "d509e867-0184-4379-8e48-f0fb48a9a0ab",
   "metadata": {},
   "outputs": [],
   "source": [
    "del(dataset['population'])\n",
    "del(dataset['sys_id'])"
   ]
  },
  {
   "cell_type": "code",
   "execution_count": null,
   "id": "cd6b4581",
   "metadata": {},
   "outputs": [],
   "source": [
    "dataset['wu_rate']"
   ]
  },
  {
   "cell_type": "code",
   "execution_count": null,
   "id": "2a6896b3-8110-4843-bfe1-01b09e2004f4",
   "metadata": {},
   "outputs": [],
   "source": [
    "#del(dataset['pop'])\n",
    "dataset = dataset[dataset['pop']>100]\n",
    "dataset['pc'] = np.log10(dataset['wu_rate']/dataset['pop'])\n",
    "#del(dataset['wu_rate'])\n",
    "if True:\n",
    "    dataset['pop'] = np.log10(dataset['pop'] )\n",
    "    dataset['wu_rate'] = np.log10(dataset['wu_rate'])\n",
    "  "
   ]
  },
  {
   "cell_type": "code",
   "execution_count": null,
   "id": "2d4667b3",
   "metadata": {},
   "outputs": [],
   "source": [
    "10**dataset['pc'].quantile(0.05)"
   ]
  },
  {
   "cell_type": "code",
   "execution_count": null,
   "id": "badc3b7f-e264-4969-b0cf-73a60baea6c5",
   "metadata": {},
   "outputs": [],
   "source": [
    "#del(dataset['wu_rate'])"
   ]
  },
  {
   "cell_type": "code",
   "execution_count": null,
   "id": "e026cabb",
   "metadata": {},
   "outputs": [],
   "source": [
    "dataset = dataset[dataset['pc']<dataset['pc'].quantile(0.98)]"
   ]
  },
  {
   "cell_type": "code",
   "execution_count": null,
   "id": "6a8d8b08",
   "metadata": {},
   "outputs": [],
   "source": [
    "dataset = dataset[dataset['pc']>dataset['pc'].quantile(0.05)]"
   ]
  },
  {
   "cell_type": "code",
   "execution_count": null,
   "id": "521018a2",
   "metadata": {},
   "outputs": [],
   "source": [
    "del(dataset['pc'])"
   ]
  },
  {
   "cell_type": "code",
   "execution_count": null,
   "id": "474ce185",
   "metadata": {},
   "outputs": [],
   "source": [
    "dataset"
   ]
  },
  {
   "cell_type": "code",
   "execution_count": null,
   "id": "5898356b-10bc-4c28-8c77-400b152fca21",
   "metadata": {},
   "outputs": [],
   "source": [
    "data = dataset.sample(frac=0.8, random_state=786)\n",
    "data_unseen = dataset.drop(data.index)\n",
    "\n",
    "data.reset_index(drop=True, inplace=True)\n",
    "data_unseen.reset_index(drop=True, inplace=True)\n",
    "\n",
    "print('Data for Modeling: ' + str(data.shape))\n",
    "print('Unseen Data For Predictions: ' + str(data_unseen.shape))"
   ]
  },
  {
   "cell_type": "code",
   "execution_count": null,
   "id": "f5ff959a-11dc-4014-b1d2-e42b2d4265f2",
   "metadata": {},
   "outputs": [],
   "source": [
    "exp_reg101 = setup(data = data, target = 'wu_rate', train_size = 0.7, \n",
    "                   #categorical_features =categorical_features,\n",
    "                   fold_shuffle= True, data_split_shuffle=True, session_id=123,\n",
    "                   #normalize = True, transformation = True, \n",
    "                   #combine_rare_levels = True, rare_level_threshold = 0.05,\n",
    "                   #remove_outliers = True, outliers_threshold = 0.05,\n",
    "                   #pca = True, pca_method = 'kernel', pca_components = 50,\n",
    "                   #create_clusters = True, cluster_iter = 20\n",
    "                   #polynomial_features = True, polynomial_degree = 2,\n",
    "                   #feature_interaction = True, feature_ratio = True,\n",
    "                   #use_gpu = True\n",
    "                  )"
   ]
  },
  {
   "cell_type": "code",
   "execution_count": null,
   "id": "629f9db3-661d-4dc6-a1e6-12221cc429d3",
   "metadata": {},
   "outputs": [],
   "source": [
    "#!jupyter nbconvert --to script 1_model_development.ipynb"
   ]
  },
  {
   "cell_type": "code",
   "execution_count": null,
   "id": "d60e1d81-80e5-472e-b882-b13e1e2364fd",
   "metadata": {},
   "outputs": [],
   "source": [
    "set_config('n_jobs_param', 2)\n",
    "get_config('n_jobs_param')"
   ]
  },
  {
   "cell_type": "code",
   "execution_count": null,
   "id": "8696a066-6cc5-492c-99c5-074be1a3cd68",
   "metadata": {},
   "outputs": [],
   "source": [
    "#best = compare_models()"
   ]
  },
  {
   "cell_type": "code",
   "execution_count": null,
   "id": "718c8377-ea4c-4371-a900-e62122ddd811",
   "metadata": {},
   "outputs": [],
   "source": [
    "data"
   ]
  },
  {
   "cell_type": "code",
   "execution_count": null,
   "id": "325856ce-7adf-44ca-a26f-8eefe32ea7af",
   "metadata": {},
   "outputs": [],
   "source": [
    "xgb1 = create_model('xgboost', fold = 3)"
   ]
  },
  {
   "cell_type": "code",
   "execution_count": null,
   "id": "846e7399-3a63-4e71-8530-af28857e8cdc",
   "metadata": {},
   "outputs": [],
   "source": [
    "#boosted_dt = ensemble_model(xgb1, method = 'Boosting')"
   ]
  },
  {
   "cell_type": "code",
   "execution_count": null,
   "id": "b04f5102-f7aa-468b-bd83-eb1ca0218642",
   "metadata": {},
   "outputs": [],
   "source": [
    "#tuned_xgb1 = tune_model(xgb1, search_algorithm = 'random') #, n_iter = 100\n",
    "# use obj func "
   ]
  },
  {
   "cell_type": "code",
   "execution_count": null,
   "id": "7fdc6891-824d-4570-a0f4-7f7239a77510",
   "metadata": {},
   "outputs": [],
   "source": [
    "plot_model(xgb1)"
   ]
  },
  {
   "cell_type": "code",
   "execution_count": null,
   "id": "fb4b9347-b0b9-4a51-9963-b11dd7b94ddc",
   "metadata": {},
   "outputs": [],
   "source": [
    "plot_model(xgb1, plot = 'error')"
   ]
  },
  {
   "cell_type": "code",
   "execution_count": null,
   "id": "2df610a1-85f4-412c-8842-87a92ea3b7bc",
   "metadata": {},
   "outputs": [],
   "source": [
    "#plot_model(xgb1, plot='feature')"
   ]
  },
  {
   "cell_type": "code",
   "execution_count": null,
   "id": "dc9a1953-52b0-4cff-842b-b1bb64db0680",
   "metadata": {},
   "outputs": [],
   "source": [
    "xgb1."
   ]
  },
  {
   "cell_type": "code",
   "execution_count": null,
   "id": "12ec4d85-fe28-4d61-aaa4-efd4a5f691dd",
   "metadata": {},
   "outputs": [],
   "source": []
  },
  {
   "cell_type": "code",
   "execution_count": null,
   "id": "4e56de9e-0361-4e8a-83f6-0304e519f19e",
   "metadata": {},
   "outputs": [],
   "source": [
    "\n"
   ]
  },
  {
   "cell_type": "code",
   "execution_count": null,
   "id": "80c20124-6f67-412d-b12b-4354d14656c2",
   "metadata": {},
   "outputs": [],
   "source": [
    "\n"
   ]
  },
  {
   "cell_type": "code",
   "execution_count": null,
   "id": "599d4e9c-54ce-4073-a4e4-706ba7a27701",
   "metadata": {},
   "outputs": [],
   "source": [
    "unseen_predictions = predict_model(xgb1, data=data_unseen)\n",
    "unseen_predictions\n",
    "r2 = check_metric(unseen_predictions.wu_rate/unseen_predictions['pop'], unseen_predictions.Label/unseen_predictions['pop'], 'R2')\n",
    "plt.scatter(10**(unseen_predictions.wu_rate/unseen_predictions['pop']), 10**(unseen_predictions.Label/unseen_predictions['pop']))\n",
    "#plt.gca().set_yscale('log')\n",
    "#plt.gca().set_xscale('log')\n",
    "plt.plot([20, 300], [20,300], 'r')\n",
    "plt.title(\"Unseen Data -- $R^2$ = {}\".format(r2 ))"
   ]
  },
  {
   "cell_type": "markdown",
   "id": "85500733",
   "metadata": {},
   "source": [
    "# Predicting Per capita water use directly "
   ]
  },
  {
   "cell_type": "code",
   "execution_count": null,
   "id": "a055e2a2-e6b7-439e-b57b-8dc89327d6fc",
   "metadata": {},
   "outputs": [],
   "source": [
    "## predict PC\n",
    "dataset['pc'] = (10**dataset['wu_rate'])/(10**dataset['pop'])\n",
    "dataset['pcq'] =  \n",
    "del(dataset['wu_rate'])"
   ]
  },
  {
   "cell_type": "code",
   "execution_count": null,
   "id": "c756b76c",
   "metadata": {},
   "outputs": [],
   "source": [
    "data2 = dataset.sample(frac=0.8, random_state=786)\n",
    "data_unseen2 = dataset.drop(data2.index)\n",
    "\n",
    "data2.reset_index(drop=True, inplace=True)\n",
    "data_unseen2.reset_index(drop=True, inplace=True)\n",
    "\n",
    "print('Data for Modeling: ' + str(data.shape))\n",
    "print('Unseen Data For Predictions: ' + str(data_unseen.shape))"
   ]
  },
  {
   "cell_type": "code",
   "execution_count": null,
   "id": "f34952b5",
   "metadata": {},
   "outputs": [],
   "source": [
    "exp_reg101 = setup(data = data2, target = 'pc', train_size = 0.7, \n",
    "                   #categorical_features =categorical_features,\n",
    "                   fold_shuffle= True, data_split_shuffle=True, session_id=123,\n",
    "                   #normalize = True, transformation = True, \n",
    "                   #combine_rare_levels = True, rare_level_threshold = 0.05,\n",
    "                   #remove_outliers = True, outliers_threshold = 0.05,\n",
    "                   #pca = True, pca_method = 'kernel', pca_components = 50,\n",
    "                   #create_clusters = True, cluster_iter = 20\n",
    "                   #polynomial_features = True, polynomial_degree = 2,\n",
    "                   #feature_interaction = True, feature_ratio = True,\n",
    "                   #use_gpu = True\n",
    "                  )"
   ]
  },
  {
   "cell_type": "code",
   "execution_count": null,
   "id": "b569ad40",
   "metadata": {},
   "outputs": [],
   "source": [
    "xgb2 = create_model('xgboost', fold = 3)"
   ]
  },
  {
   "cell_type": "code",
   "execution_count": null,
   "id": "f8f25717",
   "metadata": {},
   "outputs": [],
   "source": [
    "plot_model(xgb2)\n"
   ]
  },
  {
   "cell_type": "code",
   "execution_count": null,
   "id": "5872822f",
   "metadata": {},
   "outputs": [],
   "source": [
    "plot_model(xgb2, plot = 'error')"
   ]
  },
  {
   "cell_type": "code",
   "execution_count": null,
   "id": "38acc32e",
   "metadata": {},
   "outputs": [],
   "source": [
    "unseen_predictions2 = predict_model(xgb2, data=data_unseen2)\n",
    "\n",
    "r2 = check_metric(unseen_predictions2['pc'], unseen_predictions2.Label, 'R2')\n",
    "plt.scatter((unseen_predictions2['pc']/unseen_predictions2['pop']), (unseen_predictions2.Label/unseen_predictions2['pop']))\n",
    "#plt.gca().set_yscale('log')\n",
    "#plt.gca().set_xscale('log')\n",
    "plt.plot([20, 300], [20,300], 'r')\n",
    "plt.title(\"Unseen Data -- $R^2$ = {}\".format(r2 ))"
   ]
  },
  {
   "cell_type": "code",
   "execution_count": null,
   "id": "8809f526",
   "metadata": {},
   "outputs": [],
   "source": [
    "## predict PC\n",
    "dataset['pc'] =np.log10(dataset['pc'])\n",
    "\n",
    "data3 = dataset.sample(frac=0.8, random_state=786)\n",
    "data_unseen3 = dataset.drop(data3.index)\n",
    "\n",
    "data3.reset_index(drop=True, inplace=True)\n",
    "data_unseen3.reset_index(drop=True, inplace=True)\n",
    "\n",
    "print('Data for Modeling: ' + str(data3.shape))\n",
    "print('Unseen Data For Predictions: ' + str(data_unseen3.shape))\n",
    "exp_reg101 = setup(data = data3, target = 'pc', train_size = 0.7, \n",
    "                   #categorical_features =categorical_features,\n",
    "                   fold_shuffle= True, data_split_shuffle=True, session_id=123,\n",
    "                   #normalize = True, transformation = True, \n",
    "                   #combine_rare_levels = True, rare_level_threshold = 0.05,\n",
    "                   #remove_outliers = True, outliers_threshold = 0.05,\n",
    "                   #pca = True, pca_method = 'kernel', pca_components = 50,\n",
    "                   #create_clusters = True, cluster_iter = 20\n",
    "                   #polynomial_features = True, polynomial_degree = 2,\n",
    "                   #feature_interaction = True, feature_ratio = True,\n",
    "                   #use_gpu = True\n",
    "                  )\n",
    "xgb3 = create_model('xgboost', fold = 3)"
   ]
  },
  {
   "cell_type": "code",
   "execution_count": null,
   "id": "3d2726fc",
   "metadata": {},
   "outputs": [],
   "source": [
    "plot_model(xgb3, plot = 'error')"
   ]
  },
  {
   "cell_type": "code",
   "execution_count": null,
   "id": "859a862f",
   "metadata": {},
   "outputs": [],
   "source": [
    "unseen_predictions3 = predict_model(xgb3, data=data_unseen3)\n",
    "unseen_predictions3\n",
    "r2 = check_metric(unseen_predictions3['pc'], unseen_predictions3.Label, 'R2')\n",
    "plt.scatter(10**10**(unseen_predictions3['pc']), 10**10**(unseen_predictions3.Label))\n",
    "#plt.gca().set_yscale('log')\n",
    "#plt.gca().set_xscale('log')\n",
    "plt.plot([20, 600], [20,600], 'r')\n",
    "plt.title(\"Unseen Data -- $R^2$ = {}\".format(r2 ))"
   ]
  },
  {
   "cell_type": "code",
   "execution_count": null,
   "id": "9fca3b9a",
   "metadata": {},
   "outputs": [],
   "source": [
    "\n"
   ]
  },
  {
   "cell_type": "code",
   "execution_count": null,
   "id": "2e5ba07e",
   "metadata": {},
   "outputs": [],
   "source": []
  }
 ],
 "metadata": {
  "hide_input": false,
  "kernelspec": {
   "display_name": "Python 3 (ipykernel)",
   "language": "python",
   "name": "python3"
  },
  "language_info": {
   "codemirror_mode": {
    "name": "ipython",
    "version": 3
   },
   "file_extension": ".py",
   "mimetype": "text/x-python",
   "name": "python",
   "nbconvert_exporter": "python",
   "pygments_lexer": "ipython3",
   "version": "3.8.13"
  },
  "latex_envs": {
   "LaTeX_envs_menu_present": true,
   "autoclose": false,
   "autocomplete": true,
   "bibliofile": "biblio.bib",
   "cite_by": "apalike",
   "current_citInitial": 1,
   "eqLabelWithNumbers": true,
   "eqNumInitial": 1,
   "hotkeys": {
    "equation": "Ctrl-E",
    "itemize": "Ctrl-I"
   },
   "labels_anchors": false,
   "latex_user_defs": false,
   "report_style_numbering": false,
   "user_envs_cfg": false
  },
  "toc": {
   "base_numbering": 1,
   "nav_menu": {},
   "number_sections": true,
   "sideBar": true,
   "skip_h1_title": false,
   "title_cell": "Table of Contents",
   "title_sidebar": "Contents",
   "toc_cell": false,
   "toc_position": {},
   "toc_section_display": true,
   "toc_window_display": false
  },
  "toc-autonumbering": false,
  "toc-showmarkdowntxt": true,
  "varInspector": {
   "cols": {
    "lenName": 16,
    "lenType": 16,
    "lenVar": 40
   },
   "kernels_config": {
    "python": {
     "delete_cmd_postfix": "",
     "delete_cmd_prefix": "del ",
     "library": "var_list.py",
     "varRefreshCmd": "print(var_dic_list())"
    },
    "r": {
     "delete_cmd_postfix": ") ",
     "delete_cmd_prefix": "rm(",
     "library": "var_list.r",
     "varRefreshCmd": "cat(var_dic_list()) "
    }
   },
   "types_to_exclude": [
    "module",
    "function",
    "builtin_function_or_method",
    "instance",
    "_Feature"
   ],
   "window_display": false
  }
 },
 "nbformat": 4,
 "nbformat_minor": 5
}
